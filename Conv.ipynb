{
 "cells": [
  {
   "cell_type": "code",
   "execution_count": 1,
   "metadata": {},
   "outputs": [
    {
     "name": "stderr",
     "output_type": "stream",
     "text": [
      "Using TensorFlow backend.\n"
     ]
    }
   ],
   "source": [
    "from keras import layers\n",
    "from keras import models"
   ]
  },
  {
   "cell_type": "code",
   "execution_count": 2,
   "metadata": {},
   "outputs": [],
   "source": [
    "# to avoid a cuBLAS error, per https://stackoverflow.com/questions/43990046/tensorflow-blas-gemm-launch-failed\n",
    "import tensorflow as tf\n",
    "physical_devices = tf.config.list_physical_devices('GPU') \n",
    "tf.config.experimental.set_memory_growth(physical_devices[0], True)"
   ]
  },
  {
   "cell_type": "markdown",
   "metadata": {},
   "source": [
    "# MNIST using a convolutional neural network"
   ]
  },
  {
   "cell_type": "markdown",
   "metadata": {},
   "source": [
    "For comparison, a simple linear classifer (using only a few Dense layers, if I remember correctly) topped out at around 97% accuracy. Not bad, but the also simple convnet below gives us 99.3% accuracy. Both train in a similar and relatively short amount of time - the network below does five epochs of 60K inputs/digits in about 25s. "
   ]
  },
  {
   "cell_type": "code",
   "execution_count": 3,
   "metadata": {},
   "outputs": [],
   "source": [
    "model = models.Sequential()\n",
    "model.add(layers.Conv2D(32, (3, 3), activation='relu', input_shape=(28, 28, 1)))\n",
    "model.add(layers.MaxPooling2D((2, 2)))\n",
    "model.add(layers.Conv2D(64, (3, 3), activation='relu'))\n",
    "model.add(layers.MaxPooling2D((2, 2)))\n",
    "model.add(layers.Conv2D(64, (3, 3), activation='relu'))"
   ]
  },
  {
   "cell_type": "code",
   "execution_count": 4,
   "metadata": {},
   "outputs": [
    {
     "name": "stdout",
     "output_type": "stream",
     "text": [
      "Model: \"sequential_1\"\n",
      "_________________________________________________________________\n",
      "Layer (type)                 Output Shape              Param #   \n",
      "=================================================================\n",
      "conv2d_1 (Conv2D)            (None, 26, 26, 32)        320       \n",
      "_________________________________________________________________\n",
      "max_pooling2d_1 (MaxPooling2 (None, 13, 13, 32)        0         \n",
      "_________________________________________________________________\n",
      "conv2d_2 (Conv2D)            (None, 11, 11, 64)        18496     \n",
      "_________________________________________________________________\n",
      "max_pooling2d_2 (MaxPooling2 (None, 5, 5, 64)          0         \n",
      "_________________________________________________________________\n",
      "conv2d_3 (Conv2D)            (None, 3, 3, 64)          36928     \n",
      "=================================================================\n",
      "Total params: 55,744\n",
      "Trainable params: 55,744\n",
      "Non-trainable params: 0\n",
      "_________________________________________________________________\n"
     ]
    }
   ],
   "source": [
    "model.summary()"
   ]
  },
  {
   "cell_type": "code",
   "execution_count": 5,
   "metadata": {},
   "outputs": [],
   "source": [
    "model.add(layers.Flatten())\n",
    "model.add(layers.Dense(64, activation='relu'))\n",
    "model.add(layers.Dense(10, activation='softmax'))"
   ]
  },
  {
   "cell_type": "code",
   "execution_count": 6,
   "metadata": {},
   "outputs": [
    {
     "name": "stdout",
     "output_type": "stream",
     "text": [
      "Model: \"sequential_1\"\n",
      "_________________________________________________________________\n",
      "Layer (type)                 Output Shape              Param #   \n",
      "=================================================================\n",
      "conv2d_1 (Conv2D)            (None, 26, 26, 32)        320       \n",
      "_________________________________________________________________\n",
      "max_pooling2d_1 (MaxPooling2 (None, 13, 13, 32)        0         \n",
      "_________________________________________________________________\n",
      "conv2d_2 (Conv2D)            (None, 11, 11, 64)        18496     \n",
      "_________________________________________________________________\n",
      "max_pooling2d_2 (MaxPooling2 (None, 5, 5, 64)          0         \n",
      "_________________________________________________________________\n",
      "conv2d_3 (Conv2D)            (None, 3, 3, 64)          36928     \n",
      "_________________________________________________________________\n",
      "flatten_1 (Flatten)          (None, 576)               0         \n",
      "_________________________________________________________________\n",
      "dense_1 (Dense)              (None, 64)                36928     \n",
      "_________________________________________________________________\n",
      "dense_2 (Dense)              (None, 10)                650       \n",
      "=================================================================\n",
      "Total params: 93,322\n",
      "Trainable params: 93,322\n",
      "Non-trainable params: 0\n",
      "_________________________________________________________________\n"
     ]
    }
   ],
   "source": [
    "model.summary()"
   ]
  },
  {
   "cell_type": "code",
   "execution_count": 7,
   "metadata": {},
   "outputs": [
    {
     "data": {
      "text/plain": [
       "((60000, 28, 28, 1), (10000, 28, 28, 1), (60000, 10), (10000, 10))"
      ]
     },
     "execution_count": 7,
     "metadata": {},
     "output_type": "execute_result"
    }
   ],
   "source": [
    "from keras.datasets import mnist\n",
    "from keras.utils import to_categorical\n",
    "(train_images, train_labels), (test_images, test_labels) = mnist.load_data()\n",
    "\n",
    "train_images = train_images.reshape((60000, 28, 28, 1))\n",
    "train_images = train_images.astype('float32') / 255\n",
    "test_images = test_images.reshape((10000, 28, 28, 1))\n",
    "test_images = test_images.astype('float32') / 255\n",
    "train_labels = to_categorical(train_labels)\n",
    "test_labels = to_categorical(test_labels)\n",
    "\n",
    "train_images.shape, test_images.shape, train_labels.shape, test_labels.shape"
   ]
  },
  {
   "cell_type": "code",
   "execution_count": 8,
   "metadata": {},
   "outputs": [
    {
     "name": "stdout",
     "output_type": "stream",
     "text": [
      "Epoch 1/5\n",
      "60000/60000 [==============================] - 6s 98us/step - loss: 0.1739 - accuracy: 0.9461\n",
      "Epoch 2/5\n",
      "60000/60000 [==============================] - 5s 81us/step - loss: 0.0470 - accuracy: 0.9854\n",
      "Epoch 3/5\n",
      "60000/60000 [==============================] - 5s 80us/step - loss: 0.0329 - accuracy: 0.9901\n",
      "Epoch 4/5\n",
      "60000/60000 [==============================] - 5s 80us/step - loss: 0.0255 - accuracy: 0.9924\n",
      "Epoch 5/5\n",
      "60000/60000 [==============================] - 5s 80us/step - loss: 0.0196 - accuracy: 0.9939\n"
     ]
    },
    {
     "data": {
      "text/plain": [
       "<keras.callbacks.callbacks.History at 0x1da34365808>"
      ]
     },
     "execution_count": 8,
     "metadata": {},
     "output_type": "execute_result"
    }
   ],
   "source": [
    "model.compile(optimizer='rmsprop', loss='categorical_crossentropy', metrics=['accuracy'])\n",
    "model.fit(train_images, train_labels, epochs=5, batch_size=64, verbose=True)"
   ]
  },
  {
   "cell_type": "code",
   "execution_count": 9,
   "metadata": {},
   "outputs": [
    {
     "name": "stdout",
     "output_type": "stream",
     "text": [
      "10000/10000 [==============================] - 1s 72us/step\n"
     ]
    },
    {
     "data": {
      "text/plain": [
       "(0.027074831167704268, 0.9912999868392944)"
      ]
     },
     "execution_count": 9,
     "metadata": {},
     "output_type": "execute_result"
    }
   ],
   "source": [
    "test_loss, test_accuracy = model.evaluate(test_images, test_labels)\n",
    "test_loss, test_accuracy"
   ]
  },
  {
   "cell_type": "markdown",
   "metadata": {},
   "source": [
    "# More complicated (but not that complicated) images - starting with a simple model (no augmentation, etc.)"
   ]
  },
  {
   "cell_type": "markdown",
   "metadata": {},
   "source": [
    "First, move the data - images - into separate directories for train, validation, and test."
   ]
  },
  {
   "cell_type": "code",
   "execution_count": 3,
   "metadata": {},
   "outputs": [],
   "source": [
    "import os, shutil"
   ]
  },
  {
   "cell_type": "code",
   "execution_count": 4,
   "metadata": {},
   "outputs": [
    {
     "data": {
      "text/plain": [
       "'D:\\\\work\\\\github\\\\DeepLearningWithPython'"
      ]
     },
     "execution_count": 4,
     "metadata": {},
     "output_type": "execute_result"
    }
   ],
   "source": [
    "os.getcwd()"
   ]
  },
  {
   "cell_type": "code",
   "execution_count": 5,
   "metadata": {},
   "outputs": [],
   "source": [
    "original_dataset_dir = 'dogsandcats_source'\n",
    "base_dir = 'dogsandcats_small'\n",
    "os.makedirs(base_dir, exist_ok=True)\n",
    "\n",
    "# ugh, lots of duplication - i'm just using the code in the book, and I won't bother fixing it\n",
    "train_dir = os.path.join(base_dir, 'train')\n",
    "os.makedirs(train_dir, exist_ok=True)\n",
    "validation_dir = os.path.join(base_dir, 'validation')\n",
    "os.makedirs(validation_dir, exist_ok=True)\n",
    "test_dir = os.path.join(base_dir, 'test')\n",
    "os.makedirs(test_dir, exist_ok=True)\n",
    "\n",
    "train_cats_dir = os.path.join(train_dir, 'cats')\n",
    "os.makedirs(train_cats_dir, exist_ok=True)\n",
    "train_dogs_dir = os.path.join(train_dir, 'dogs')\n",
    "os.makedirs(train_dogs_dir, exist_ok=True)\n",
    "validation_cats_dir = os.path.join(validation_dir, 'cats')\n",
    "os.makedirs(validation_cats_dir, exist_ok=True)\n",
    "validation_dogs_dir = os.path.join(validation_dir, 'dogs')\n",
    "os.makedirs(validation_dogs_dir, exist_ok=True)\n",
    "\n",
    "test_cats_dir = os.path.join(test_dir, 'cats')\n",
    "os.makedirs(test_cats_dir, exist_ok=True)\n",
    "test_dogs_dir = os.path.join(test_dir, 'dogs')\n",
    "os.makedirs(test_dogs_dir, exist_ok=True)"
   ]
  },
  {
   "cell_type": "code",
   "execution_count": 6,
   "metadata": {},
   "outputs": [],
   "source": [
    "need_to_copy_files = False\n",
    "\n",
    "train_size = 1000\n",
    "validation_size = 500\n",
    "test_size = 500\n",
    "\n",
    "if need_to_copy_files:\n",
    "    # ugh, even more duplication\n",
    "    fnames = ['cat.{}.jpg'.format(i) for i in range(train_size)]\n",
    "    for fname in fnames:\n",
    "        src = os.path.join(original_dataset_dir, fname)\n",
    "        dst = os.path.join(train_cats_dir, fname)\n",
    "        shutil.copyfile(src, dst)\n",
    "\n",
    "    fnames = ['cat.{}.jpg'.format(i) for i in range(train_size, train_size + validation_size)]\n",
    "    for fname in fnames:\n",
    "        src = os.path.join(original_dataset_dir, fname)\n",
    "        dst = os.path.join(validation_cats_dir, fname)\n",
    "        shutil.copyfile(src, dst)\n",
    "\n",
    "    fnames = ['cat.{}.jpg'.format(i) for i in range(train_size + validation_size, train_size + validation_size + test_size)]\n",
    "    for fname in fnames:\n",
    "        src = os.path.join(original_dataset_dir, fname)\n",
    "        dst = os.path.join(test_cats_dir, fname)\n",
    "        shutil.copyfile(src, dst)\n",
    "\n",
    "    fnames = ['dog.{}.jpg'.format(i) for i in range(train_size)]\n",
    "    for fname in fnames:\n",
    "        src = os.path.join(original_dataset_dir, fname)\n",
    "        dst = os.path.join(train_dogs_dir, fname)\n",
    "        shutil.copyfile(src, dst)\n",
    "\n",
    "    fnames = ['dog.{}.jpg'.format(i) for i in range(train_size, train_size + validation_size)]\n",
    "    for fname in fnames:\n",
    "        src = os.path.join(original_dataset_dir, fname)\n",
    "        dst = os.path.join(validation_dogs_dir, fname)\n",
    "        shutil.copyfile(src, dst)\n",
    "\n",
    "    fnames = ['dog.{}.jpg'.format(i) for i in range(train_size + validation_size, train_size + validation_size + test_size)]\n",
    "    for fname in fnames:\n",
    "        src = os.path.join(original_dataset_dir, fname)\n",
    "        dst = os.path.join(test_dogs_dir, fname)\n",
    "        shutil.copyfile(src, dst)"
   ]
  },
  {
   "cell_type": "markdown",
   "metadata": {},
   "source": [
    "And build the model."
   ]
  },
  {
   "cell_type": "code",
   "execution_count": 19,
   "metadata": {},
   "outputs": [],
   "source": [
    "model = models.Sequential()\n",
    "model.add(layers.Conv2D(32, (3, 3), activation='relu', input_shape=(150, 150, 3)))\n",
    "model.add(layers.MaxPooling2D((2, 2)))\n",
    "model.add(layers.Conv2D(64, (3, 3), activation='relu'))\n",
    "model.add(layers.MaxPooling2D((2, 2)))\n",
    "model.add(layers.Conv2D(128, (3, 3), activation='relu'))\n",
    "model.add(layers.MaxPooling2D((2, 2)))\n",
    "model.add(layers.Conv2D(128, (3, 3), activation='relu'))\n",
    "model.add(layers.MaxPooling2D((2, 2)))\n",
    "model.add(layers.Flatten())\n",
    "model.add(layers.Dense(512, activation='relu'))\n",
    "model.add(layers.Dense(1, activation='sigmoid'))"
   ]
  },
  {
   "cell_type": "code",
   "execution_count": 20,
   "metadata": {},
   "outputs": [
    {
     "name": "stdout",
     "output_type": "stream",
     "text": [
      "Model: \"sequential_2\"\n",
      "_________________________________________________________________\n",
      "Layer (type)                 Output Shape              Param #   \n",
      "=================================================================\n",
      "conv2d_5 (Conv2D)            (None, 148, 148, 32)      896       \n",
      "_________________________________________________________________\n",
      "max_pooling2d_5 (MaxPooling2 (None, 74, 74, 32)        0         \n",
      "_________________________________________________________________\n",
      "conv2d_6 (Conv2D)            (None, 72, 72, 64)        18496     \n",
      "_________________________________________________________________\n",
      "max_pooling2d_6 (MaxPooling2 (None, 36, 36, 64)        0         \n",
      "_________________________________________________________________\n",
      "conv2d_7 (Conv2D)            (None, 34, 34, 128)       73856     \n",
      "_________________________________________________________________\n",
      "max_pooling2d_7 (MaxPooling2 (None, 17, 17, 128)       0         \n",
      "_________________________________________________________________\n",
      "conv2d_8 (Conv2D)            (None, 15, 15, 128)       147584    \n",
      "_________________________________________________________________\n",
      "max_pooling2d_8 (MaxPooling2 (None, 7, 7, 128)         0         \n",
      "_________________________________________________________________\n",
      "flatten_2 (Flatten)          (None, 6272)              0         \n",
      "_________________________________________________________________\n",
      "dense_3 (Dense)              (None, 512)               3211776   \n",
      "_________________________________________________________________\n",
      "dense_4 (Dense)              (None, 1)                 513       \n",
      "=================================================================\n",
      "Total params: 3,453,121\n",
      "Trainable params: 3,453,121\n",
      "Non-trainable params: 0\n",
      "_________________________________________________________________\n"
     ]
    }
   ],
   "source": [
    "model.summary()"
   ]
  },
  {
   "cell_type": "code",
   "execution_count": 21,
   "metadata": {},
   "outputs": [],
   "source": [
    "from keras import optimizers\n",
    "\n",
    "model.compile(loss='binary_crossentropy',\n",
    "optimizer=optimizers.RMSprop(lr=1e-4),\n",
    "metrics=['acc'])"
   ]
  },
  {
   "cell_type": "markdown",
   "metadata": {},
   "source": [
    "And pre-process the data - decode jpeg to RGB, convert to floating point tensors, rescale 0-255 to 0-1. "
   ]
  },
  {
   "cell_type": "code",
   "execution_count": 22,
   "metadata": {},
   "outputs": [
    {
     "name": "stdout",
     "output_type": "stream",
     "text": [
      "Found 2000 images belonging to 2 classes.\n",
      "Found 1000 images belonging to 2 classes.\n"
     ]
    }
   ],
   "source": [
    "from keras.preprocessing.image import ImageDataGenerator\n",
    "\n",
    "train_datagen = ImageDataGenerator(rescale = 1./255)\n",
    "test_datagen = ImageDataGenerator(rescale = 1./255)\n",
    "\n",
    "train_generator = train_datagen.flow_from_directory(train_dir, \n",
    "                                                    target_size=(150, 150), \n",
    "                                                    batch_size=20, \n",
    "                                                    class_mode='binary')\n",
    "\n",
    "validation_generator = test_datagen.flow_from_directory(validation_dir,\n",
    "                                                        target_size=(150, 150),\n",
    "                                                        batch_size=20,\n",
    "                                                        class_mode='binary')"
   ]
  },
  {
   "cell_type": "markdown",
   "metadata": {},
   "source": [
    "And then run and save the model.\n",
    "\n",
    "Interesting to me that the first time I ran this, the first epoch took 20s and each subsequent epoch took ~5s (except for the last two epochs, which took 15s and 10s, for some reason - in later runs I also got every once in a while a long-running epoch, at different points - not sure why) - perhaps caching, somewhere or in multiple places? When I ran it a second time, the first epoch took the same 5s, so it's likely using whatever cache was set up before. It's also the case that the cache appears to be below the process level, at least - if I restarted Jupyter, the first run was still fast. But restarting the machine made it 20+s again. I watched Task Manager while it was happening and as expected the disk and GPU copy operations were in use. Running it again, hot, and the initial time where the GPU does some data/copy stuff appears to not be there. I could also see the 'dedicated GPU memory usage' graph down below go from about 2GB to 3.5GB (on my old 970 with, it appears, 4GB of RAM).\n",
    "\n",
    "Also interesting is that if you just re-run the line below - just the fit_generator call - then it appears to pick up (perhaps?) where it left off? At least there's no initial few epochs w/ a lot of learning like normal. Instead, it starts off as good as it was at the end before and finishes off just where it started. If I recreate the model object by running the code above again, then it starts off bad and improves, as I see the first time, and as expected."
   ]
  },
  {
   "cell_type": "code",
   "execution_count": 23,
   "metadata": {},
   "outputs": [
    {
     "name": "stdout",
     "output_type": "stream",
     "text": [
      "Epoch 1/30\n",
      "100/100 [==============================] - 5s 55ms/step - loss: 0.6870 - acc: 0.5360 - val_loss: 0.8047 - val_acc: 0.5000\n",
      "Epoch 2/30\n",
      "100/100 [==============================] - 6s 58ms/step - loss: 0.6557 - acc: 0.6130 - val_loss: 0.4993 - val_acc: 0.6340\n",
      "Epoch 3/30\n",
      "100/100 [==============================] - 5s 50ms/step - loss: 0.6150 - acc: 0.6555 - val_loss: 0.6154 - val_acc: 0.6360\n",
      "Epoch 4/30\n",
      "100/100 [==============================] - 5s 48ms/step - loss: 0.5758 - acc: 0.6910 - val_loss: 0.5803 - val_acc: 0.6540\n",
      "Epoch 5/30\n",
      "100/100 [==============================] - 5s 48ms/step - loss: 0.5407 - acc: 0.7230 - val_loss: 0.4954 - val_acc: 0.6910\n",
      "Epoch 6/30\n",
      "100/100 [==============================] - 5s 48ms/step - loss: 0.5143 - acc: 0.7465 - val_loss: 0.6705 - val_acc: 0.6830\n",
      "Epoch 7/30\n",
      "100/100 [==============================] - 5s 48ms/step - loss: 0.4860 - acc: 0.7615 - val_loss: 0.5124 - val_acc: 0.7110\n",
      "Epoch 8/30\n",
      "100/100 [==============================] - 5s 48ms/step - loss: 0.4639 - acc: 0.7795 - val_loss: 1.0973 - val_acc: 0.5390\n",
      "Epoch 9/30\n",
      "100/100 [==============================] - 5s 48ms/step - loss: 0.4380 - acc: 0.7930 - val_loss: 0.4968 - val_acc: 0.6890\n",
      "Epoch 10/30\n",
      "100/100 [==============================] - 5s 47ms/step - loss: 0.4172 - acc: 0.8045 - val_loss: 0.5935 - val_acc: 0.7140\n",
      "Epoch 11/30\n",
      "100/100 [==============================] - 5s 47ms/step - loss: 0.3872 - acc: 0.8325 - val_loss: 0.4275 - val_acc: 0.7320\n",
      "Epoch 12/30\n",
      "100/100 [==============================] - 5s 47ms/step - loss: 0.3658 - acc: 0.8345 - val_loss: 0.5337 - val_acc: 0.7250\n",
      "Epoch 13/30\n",
      "100/100 [==============================] - 5s 48ms/step - loss: 0.3416 - acc: 0.8550 - val_loss: 0.7402 - val_acc: 0.7240\n",
      "Epoch 14/30\n",
      "100/100 [==============================] - 5s 47ms/step - loss: 0.3225 - acc: 0.8655 - val_loss: 0.7740 - val_acc: 0.7220\n",
      "Epoch 15/30\n",
      "100/100 [==============================] - 5s 47ms/step - loss: 0.3013 - acc: 0.8720 - val_loss: 0.6760 - val_acc: 0.7260\n",
      "Epoch 16/30\n",
      "100/100 [==============================] - 5s 48ms/step - loss: 0.2787 - acc: 0.8880 - val_loss: 0.5966 - val_acc: 0.7070\n",
      "Epoch 17/30\n",
      "100/100 [==============================] - 5s 47ms/step - loss: 0.2561 - acc: 0.8990 - val_loss: 0.8656 - val_acc: 0.7360\n",
      "Epoch 18/30\n",
      "100/100 [==============================] - 5s 47ms/step - loss: 0.2336 - acc: 0.9080 - val_loss: 0.5594 - val_acc: 0.7310\n",
      "Epoch 19/30\n",
      "100/100 [==============================] - 5s 48ms/step - loss: 0.2135 - acc: 0.9195 - val_loss: 1.0554 - val_acc: 0.7300\n",
      "Epoch 20/30\n",
      "100/100 [==============================] - 5s 47ms/step - loss: 0.1934 - acc: 0.9265 - val_loss: 0.8338 - val_acc: 0.7220\n",
      "Epoch 21/30\n",
      "100/100 [==============================] - 5s 47ms/step - loss: 0.1786 - acc: 0.9320 - val_loss: 0.5654 - val_acc: 0.7330\n",
      "Epoch 22/30\n",
      "100/100 [==============================] - 5s 48ms/step - loss: 0.1584 - acc: 0.9420 - val_loss: 0.9515 - val_acc: 0.7360\n",
      "Epoch 23/30\n",
      "100/100 [==============================] - 5s 47ms/step - loss: 0.1395 - acc: 0.9500 - val_loss: 0.4600 - val_acc: 0.7290\n",
      "Epoch 24/30\n",
      "100/100 [==============================] - 5s 48ms/step - loss: 0.1228 - acc: 0.9590 - val_loss: 0.6796 - val_acc: 0.7480\n",
      "Epoch 25/30\n",
      "100/100 [==============================] - 5s 48ms/step - loss: 0.1056 - acc: 0.9735 - val_loss: 0.3472 - val_acc: 0.7260\n",
      "Epoch 26/30\n",
      "100/100 [==============================] - 5s 48ms/step - loss: 0.0984 - acc: 0.9690 - val_loss: 1.3917 - val_acc: 0.7260\n",
      "Epoch 27/30\n",
      "100/100 [==============================] - 5s 47ms/step - loss: 0.0756 - acc: 0.9795 - val_loss: 0.5402 - val_acc: 0.6870\n",
      "Epoch 28/30\n",
      "100/100 [==============================] - 5s 48ms/step - loss: 0.0712 - acc: 0.9805 - val_loss: 1.6953 - val_acc: 0.7430\n",
      "Epoch 29/30\n",
      "100/100 [==============================] - 5s 48ms/step - loss: 0.0598 - acc: 0.9830 - val_loss: 1.2723 - val_acc: 0.7450\n",
      "Epoch 30/30\n",
      "100/100 [==============================] - 5s 47ms/step - loss: 0.0539 - acc: 0.9865 - val_loss: 1.3975 - val_acc: 0.7210\n"
     ]
    }
   ],
   "source": [
    "history = model.fit_generator(train_generator, steps_per_epoch=100, epochs=30, \n",
    "                              validation_data=validation_generator, validation_steps=50)\n",
    "\n",
    "model.save('dogsandcats_small_1.h5')"
   ]
  },
  {
   "cell_type": "code",
   "execution_count": 24,
   "metadata": {},
   "outputs": [],
   "source": [
    "import matplotlib.pyplot as plt\n",
    "\n",
    "acc = history.history['acc']\n",
    "val_acc = history.history['val_acc']\n",
    "loss = history.history['loss']\n",
    "val_loss = history.history['val_loss']\n",
    "\n",
    "epochs = range(1, len(acc) + 1)"
   ]
  },
  {
   "cell_type": "code",
   "execution_count": 25,
   "metadata": {},
   "outputs": [
    {
     "data": {
      "text/plain": [
       "<matplotlib.legend.Legend at 0x1a73b5bb7c8>"
      ]
     },
     "execution_count": 25,
     "metadata": {},
     "output_type": "execute_result"
    },
    {
     "data": {
      "image/png": "[encoded data removed]",
      "text/plain": [
       "<Figure size 432x288 with 1 Axes>"
      ]
     },
     "metadata": {
      "needs_background": "light"
     },
     "output_type": "display_data"
    }
   ],
   "source": [
    "plt.plot(epochs, acc, 'bo', label='Training acc')\n",
    "plt.plot(epochs, val_acc, 'b', label='Validation acc')\n",
    "plt.title('Training and validation accuracy')\n",
    "plt.legend()"
   ]
  },
  {
   "cell_type": "code",
   "execution_count": 26,
   "metadata": {},
   "outputs": [
    {
     "data": {
      "text/plain": [
       "<matplotlib.legend.Legend at 0x1a73b708a88>"
      ]
     },
     "execution_count": 26,
     "metadata": {},
     "output_type": "execute_result"
    },
    {
     "data": {
      "image/png": "[encoded data removed]",
      "text/plain": [
       "<Figure size 432x288 with 1 Axes>"
      ]
     },
     "metadata": {
      "needs_background": "light"
     },
     "output_type": "display_data"
    }
   ],
   "source": [
    "plt.plot(epochs, loss, 'bo', label='Training loss')\n",
    "plt.plot(epochs, val_loss, 'b', label='Validation loss')\n",
    "plt.title('Training and validation loss')\n",
    "plt.legend()"
   ]
  },
  {
   "cell_type": "code",
   "execution_count": null,
   "metadata": {},
   "outputs": [],
   "source": []
  },
  {
   "cell_type": "code",
   "execution_count": null,
   "metadata": {},
   "outputs": [],
   "source": []
  }
 ],
 "metadata": {
  "kernelspec": {
   "display_name": "Python 3",
   "language": "python",
   "name": "python3"
  },
  "language_info": {
   "codemirror_mode": {
    "name": "ipython",
    "version": 3
   },
   "file_extension": ".py",
   "mimetype": "text/x-python",
   "name": "python",
   "nbconvert_exporter": "python",
   "pygments_lexer": "ipython3",
   "version": "3.7.6"
  }
 },
 "nbformat": 4,
 "nbformat_minor": 4
}
