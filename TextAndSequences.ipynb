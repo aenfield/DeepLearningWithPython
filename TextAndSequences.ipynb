{
 "cells": [
  {
   "cell_type": "code",
   "execution_count": 1,
   "metadata": {},
   "outputs": [
    {
     "name": "stderr",
     "output_type": "stream",
     "text": [
      "Using TensorFlow backend.\n"
     ]
    }
   ],
   "source": [
    "from keras import layers\n",
    "from keras import models\n",
    "\n",
    "from keras import optimizers\n",
    "\n",
    "import string\n",
    "import numpy as np\n",
    "import matplotlib.pyplot as plt"
   ]
  },
  {
   "cell_type": "code",
   "execution_count": 2,
   "metadata": {},
   "outputs": [],
   "source": [
    "# to avoid a cuBLAS error, per https://stackoverflow.com/questions/43990046/tensorflow-blas-gemm-launch-failed\n",
    "import tensorflow as tf\n",
    "physical_devices = tf.config.list_physical_devices('GPU') \n",
    "tf.config.experimental.set_memory_growth(physical_devices[0], True)"
   ]
  },
  {
   "cell_type": "code",
   "execution_count": 90,
   "metadata": {},
   "outputs": [],
   "source": [
    "def output_plots(history):\n",
    "    acc = history.history['acc']\n",
    "    val_acc = history.history['val_acc']\n",
    "    loss = history.history['loss']\n",
    "    val_loss = history.history['val_loss']\n",
    "    \n",
    "    epochs = range(1, len(acc) + 1)\n",
    "    plt.plot(epochs, acc, 'bo', label='Training acc')\n",
    "    plt.plot(epochs, val_acc, 'b', label='Validation acc')\n",
    "    plt.title('Training and validation accuracy')\n",
    "    plt.legend()\n",
    "    plt.figure()\n",
    "    plt.plot(epochs, loss, 'bo', label='Training loss')\n",
    "    plt.plot(epochs, val_loss, 'b', label='Validation loss')\n",
    "    plt.title('Training and validation loss')\n",
    "    plt.legend()\n",
    "    \n",
    "def output_plots_mae(history):\n",
    "    loss = history.history['loss']\n",
    "    val_loss = history.history['val_loss']\n",
    "\n",
    "    epochs = range(1, len(loss) + 1)\n",
    "    plt.figure()\n",
    "    plt.plot(epochs, loss, 'bo', label='Training loss')\n",
    "    plt.plot(epochs, val_loss, 'b', label='Validation loss')\n",
    "    plt.title('Training and validation loss')\n",
    "    plt.legend()"
   ]
  },
  {
   "cell_type": "markdown",
   "metadata": {},
   "source": [
    "# Working with text data"
   ]
  },
  {
   "cell_type": "markdown",
   "metadata": {},
   "source": [
    "## One-hot encoding"
   ]
  },
  {
   "cell_type": "markdown",
   "metadata": {},
   "source": [
    "Word-level one-hot encoding."
   ]
  },
  {
   "cell_type": "code",
   "execution_count": 3,
   "metadata": {},
   "outputs": [
    {
     "data": {
      "text/plain": [
       "(2, 10, 10)"
      ]
     },
     "execution_count": 3,
     "metadata": {},
     "output_type": "execute_result"
    }
   ],
   "source": [
    "samples = ['The cat sat on the mat.', 'The dog ate my homework.']\n",
    "samples = [sample.lower() for sample in samples]\n",
    "\n",
    "token_index = {}\n",
    "for sample in samples:\n",
    "    for word in sample.split():\n",
    "        if word not in token_index:\n",
    "            token_index[word] = len(token_index) + 1\n",
    "            \n",
    "max_length = 10 # only consider the first 10 words in each sample/sentence\n",
    "\n",
    "results = np.zeros(shape=(len(samples),\n",
    "                          max_length,\n",
    "                          max(token_index.values()) + 1))\n",
    "\n",
    "for i, sample in enumerate(samples):\n",
    "    for j, word in list(enumerate(sample.split()))[:max_length]:\n",
    "        index = token_index.get(word)\n",
    "        results[i, j, index] = 1.\n",
    "        \n",
    "results.shape"
   ]
  },
  {
   "cell_type": "code",
   "execution_count": 4,
   "metadata": {},
   "outputs": [
    {
     "data": {
      "text/plain": [
       "({'the': 1,\n",
       "  'cat': 2,\n",
       "  'sat': 3,\n",
       "  'on': 4,\n",
       "  'mat.': 5,\n",
       "  'dog': 6,\n",
       "  'ate': 7,\n",
       "  'my': 8,\n",
       "  'homework.': 9},\n",
       " array([[[0., 1., 0., 0., 0., 0., 0., 0., 0., 0.],\n",
       "         [0., 0., 1., 0., 0., 0., 0., 0., 0., 0.],\n",
       "         [0., 0., 0., 1., 0., 0., 0., 0., 0., 0.],\n",
       "         [0., 0., 0., 0., 1., 0., 0., 0., 0., 0.],\n",
       "         [0., 1., 0., 0., 0., 0., 0., 0., 0., 0.],\n",
       "         [0., 0., 0., 0., 0., 1., 0., 0., 0., 0.],\n",
       "         [0., 0., 0., 0., 0., 0., 0., 0., 0., 0.],\n",
       "         [0., 0., 0., 0., 0., 0., 0., 0., 0., 0.],\n",
       "         [0., 0., 0., 0., 0., 0., 0., 0., 0., 0.],\n",
       "         [0., 0., 0., 0., 0., 0., 0., 0., 0., 0.]],\n",
       " \n",
       "        [[0., 1., 0., 0., 0., 0., 0., 0., 0., 0.],\n",
       "         [0., 0., 0., 0., 0., 0., 1., 0., 0., 0.],\n",
       "         [0., 0., 0., 0., 0., 0., 0., 1., 0., 0.],\n",
       "         [0., 0., 0., 0., 0., 0., 0., 0., 1., 0.],\n",
       "         [0., 0., 0., 0., 0., 0., 0., 0., 0., 1.],\n",
       "         [0., 0., 0., 0., 0., 0., 0., 0., 0., 0.],\n",
       "         [0., 0., 0., 0., 0., 0., 0., 0., 0., 0.],\n",
       "         [0., 0., 0., 0., 0., 0., 0., 0., 0., 0.],\n",
       "         [0., 0., 0., 0., 0., 0., 0., 0., 0., 0.],\n",
       "         [0., 0., 0., 0., 0., 0., 0., 0., 0., 0.]]]))"
      ]
     },
     "execution_count": 4,
     "metadata": {},
     "output_type": "execute_result"
    }
   ],
   "source": [
    "token_index, results"
   ]
  },
  {
   "cell_type": "markdown",
   "metadata": {},
   "source": [
    "Character-level one-hot encoding."
   ]
  },
  {
   "cell_type": "code",
   "execution_count": 5,
   "metadata": {},
   "outputs": [
    {
     "data": {
      "text/plain": [
       "'0123456789abcdefghijklmnopqrstuvwxyzABCDEFGHIJKLMNOPQRSTUVWXYZ!\"#$%&\\'()*+,-./:;<=>?@[\\\\]^_`{|}~ \\t\\n\\r\\x0b\\x0c'"
      ]
     },
     "execution_count": 5,
     "metadata": {},
     "output_type": "execute_result"
    }
   ],
   "source": [
    "characters = string.printable # all printable ASCII characters\n",
    "characters"
   ]
  },
  {
   "cell_type": "code",
   "execution_count": 6,
   "metadata": {},
   "outputs": [
    {
     "data": {
      "text/plain": [
       "[('Y', 61),\n",
       " ('Z', 62),\n",
       " ('!', 63),\n",
       " ('\"', 64),\n",
       " ('#', 65),\n",
       " ('$', 66),\n",
       " ('%', 67),\n",
       " ('&', 68),\n",
       " (\"'\", 69),\n",
       " ('(', 70)]"
      ]
     },
     "execution_count": 6,
     "metadata": {},
     "output_type": "execute_result"
    }
   ],
   "source": [
    "token_index = dict(zip(characters, range(1, len(characters) + 1)))\n",
    "list(token_index.items())[60:70]"
   ]
  },
  {
   "cell_type": "code",
   "execution_count": 7,
   "metadata": {},
   "outputs": [
    {
     "data": {
      "text/plain": [
       "(2, 50, 101)"
      ]
     },
     "execution_count": 7,
     "metadata": {},
     "output_type": "execute_result"
    }
   ],
   "source": [
    "max_length = 50 # only consider the first 50 characters in each sample/sentence\n",
    "results = np.zeros((len(samples), \n",
    "                    max_length, \n",
    "                    max(token_index.values()) + 1))\n",
    "for i, sample in enumerate(samples):\n",
    "    for j, character in enumerate(sample):\n",
    "        index = token_index.get(character)\n",
    "        results[i, j, index] = 1.\n",
    "        \n",
    "results.shape"
   ]
  },
  {
   "cell_type": "code",
   "execution_count": 8,
   "metadata": {},
   "outputs": [
    {
     "data": {
      "text/plain": [
       "array([[[0., 0., 0., ..., 0., 0., 0.],\n",
       "        [0., 0., 0., ..., 0., 0., 0.],\n",
       "        [0., 0., 0., ..., 0., 0., 0.],\n",
       "        ...,\n",
       "        [0., 0., 0., ..., 0., 0., 0.],\n",
       "        [0., 0., 0., ..., 0., 0., 0.],\n",
       "        [0., 0., 0., ..., 0., 0., 0.]],\n",
       "\n",
       "       [[0., 0., 0., ..., 0., 0., 0.],\n",
       "        [0., 0., 0., ..., 0., 0., 0.],\n",
       "        [0., 0., 0., ..., 0., 0., 0.],\n",
       "        ...,\n",
       "        [0., 0., 0., ..., 0., 0., 0.],\n",
       "        [0., 0., 0., ..., 0., 0., 0.],\n",
       "        [0., 0., 0., ..., 0., 0., 0.]]])"
      ]
     },
     "execution_count": 8,
     "metadata": {},
     "output_type": "execute_result"
    }
   ],
   "source": [
    "results"
   ]
  },
  {
   "cell_type": "code",
   "execution_count": 9,
   "metadata": {},
   "outputs": [
    {
     "data": {
      "text/plain": [
       "'o'"
      ]
     },
     "execution_count": 9,
     "metadata": {},
     "output_type": "execute_result"
    }
   ],
   "source": [
    "samples[1][20]"
   ]
  },
  {
   "cell_type": "code",
   "execution_count": 10,
   "metadata": {},
   "outputs": [
    {
     "data": {
      "text/plain": [
       "array([0., 0., 0., 0., 0., 0., 0., 0., 0., 0., 0., 0., 0., 0., 0., 0., 0.,\n",
       "       0., 0., 0., 0., 0., 0., 0., 0., 1., 0., 0., 0., 0., 0., 0., 0., 0.,\n",
       "       0., 0., 0., 0., 0., 0., 0., 0., 0., 0., 0., 0., 0., 0., 0., 0., 0.,\n",
       "       0., 0., 0., 0., 0., 0., 0., 0., 0., 0., 0., 0., 0., 0., 0., 0., 0.,\n",
       "       0., 0., 0., 0., 0., 0., 0., 0., 0., 0., 0., 0., 0., 0., 0., 0., 0.,\n",
       "       0., 0., 0., 0., 0., 0., 0., 0., 0., 0., 0., 0., 0., 0., 0., 0.])"
      ]
     },
     "execution_count": 10,
     "metadata": {},
     "output_type": "execute_result"
    }
   ],
   "source": [
    "results[1][20]"
   ]
  },
  {
   "cell_type": "code",
   "execution_count": 11,
   "metadata": {},
   "outputs": [
    {
     "data": {
      "text/plain": [
       "25"
      ]
     },
     "execution_count": 11,
     "metadata": {},
     "output_type": "execute_result"
    }
   ],
   "source": [
    "token_index['o']"
   ]
  },
  {
   "cell_type": "code",
   "execution_count": 12,
   "metadata": {},
   "outputs": [
    {
     "data": {
      "text/plain": [
       "25"
      ]
     },
     "execution_count": 12,
     "metadata": {},
     "output_type": "execute_result"
    }
   ],
   "source": [
    "np.argmax(results[1][20])"
   ]
  },
  {
   "cell_type": "markdown",
   "metadata": {},
   "source": [
    "See the book for examples using the Keras functionality to do word-level and character-level one-hot encoding. "
   ]
  },
  {
   "cell_type": "markdown",
   "metadata": {},
   "source": [
    "## Word embeddings"
   ]
  },
  {
   "cell_type": "code",
   "execution_count": 13,
   "metadata": {},
   "outputs": [],
   "source": [
    "from keras.layers import Embedding"
   ]
  },
  {
   "cell_type": "code",
   "execution_count": 14,
   "metadata": {},
   "outputs": [],
   "source": [
    "embedding_layer = Embedding(1000, 64) # 1000 words, at most; dimensionality per word - 64 numbers per word "
   ]
  },
  {
   "cell_type": "code",
   "execution_count": 15,
   "metadata": {},
   "outputs": [],
   "source": [
    "from keras.datasets import imdb\n",
    "from keras import preprocessing"
   ]
  },
  {
   "cell_type": "code",
   "execution_count": 52,
   "metadata": {},
   "outputs": [],
   "source": [
    "max_features = 10000 # consider 10K words as features\n",
    "max_words_per_obs = 50 # each sample/observation will have at most 20 words"
   ]
  },
  {
   "cell_type": "code",
   "execution_count": 53,
   "metadata": {},
   "outputs": [
    {
     "data": {
      "text/plain": [
       "((25000,), (25000,), (25000,), (25000,))"
      ]
     },
     "execution_count": 53,
     "metadata": {},
     "output_type": "execute_result"
    }
   ],
   "source": [
    "(x_train, y_train), (x_test, y_test) = imdb.load_data(num_words=max_features)\n",
    "x_train.shape, y_train.shape, x_test.shape, y_test.shape"
   ]
  },
  {
   "cell_type": "code",
   "execution_count": 54,
   "metadata": {},
   "outputs": [
    {
     "data": {
      "text/plain": [
       "[1, 14, 22, 16, 43, 530, 973, 1622, 1385, 65, 458, 4468, 66, 3941, 4]"
      ]
     },
     "execution_count": 54,
     "metadata": {},
     "output_type": "execute_result"
    }
   ],
   "source": [
    "x_train[0][:15]"
   ]
  },
  {
   "cell_type": "code",
   "execution_count": 55,
   "metadata": {},
   "outputs": [
    {
     "data": {
      "text/plain": [
       "array([1, 0, 0, 1, 0, 0, 1, 0, 1, 0, 1, 0, 0, 0, 0], dtype=int64)"
      ]
     },
     "execution_count": 55,
     "metadata": {},
     "output_type": "execute_result"
    }
   ],
   "source": [
    "y_train[0:15]"
   ]
  },
  {
   "cell_type": "code",
   "execution_count": 56,
   "metadata": {},
   "outputs": [
    {
     "data": {
      "text/plain": [
       "9995"
      ]
     },
     "execution_count": 56,
     "metadata": {},
     "output_type": "execute_result"
    }
   ],
   "source": [
    "np.max(np.max(x_train))"
   ]
  },
  {
   "cell_type": "code",
   "execution_count": 57,
   "metadata": {},
   "outputs": [],
   "source": [
    "# turn the lists of integers (one for each review) into a 2D integer tensor of shape (samples, max_words_per_obs)\n",
    "x_train = preprocessing.sequence.pad_sequences(x_train, maxlen=max_words_per_obs)\n",
    "x_test = preprocessing.sequence.pad_sequences(x_test, maxlen=max_words_per_obs)"
   ]
  },
  {
   "cell_type": "markdown",
   "metadata": {},
   "source": [
    "Train our own embedding layer based on the IMDB data - conceptually I think of this as locating each of the 10K most common words in the IMDB data set (because that's what we loaded) in an eight-dimensional space, where the locations of each word in the space are such that the locations are helpful to classify reviews (because that's what we trained it on), and so that moving in a particular direction in a particular dimension means the 'same thing' for all words (this is a property of embeddings in general, as I udnerstand it - for example, moving from low to high for dimension three might change words from male to female). "
   ]
  },
  {
   "cell_type": "code",
   "execution_count": 58,
   "metadata": {},
   "outputs": [],
   "source": [
    "from keras.models import Sequential\n",
    "from keras.layers import Flatten, Dense, Embedding"
   ]
  },
  {
   "cell_type": "code",
   "execution_count": 59,
   "metadata": {},
   "outputs": [],
   "source": [
    "model = Sequential()\n",
    "model.add(Embedding(10000, 8, input_length=max_words_per_obs))\n",
    "model.add(Flatten())\n",
    "model.add(Dense(1, activation='sigmoid')) # this is the classifier"
   ]
  },
  {
   "cell_type": "code",
   "execution_count": 60,
   "metadata": {},
   "outputs": [
    {
     "name": "stdout",
     "output_type": "stream",
     "text": [
      "Model: \"sequential_3\"\n",
      "_________________________________________________________________\n",
      "Layer (type)                 Output Shape              Param #   \n",
      "=================================================================\n",
      "embedding_4 (Embedding)      (None, 50, 8)             80000     \n",
      "_________________________________________________________________\n",
      "flatten_3 (Flatten)          (None, 400)               0         \n",
      "_________________________________________________________________\n",
      "dense_3 (Dense)              (None, 1)                 401       \n",
      "=================================================================\n",
      "Total params: 80,401\n",
      "Trainable params: 80,401\n",
      "Non-trainable params: 0\n",
      "_________________________________________________________________\n"
     ]
    }
   ],
   "source": [
    "model.compile(optimizer='rmsprop', loss='binary_crossentropy', metrics=['acc'])\n",
    "model.summary()"
   ]
  },
  {
   "cell_type": "code",
   "execution_count": 61,
   "metadata": {},
   "outputs": [
    {
     "name": "stderr",
     "output_type": "stream",
     "text": [
      "C:\\Users\\andrewe\\Anaconda3\\envs\\tensorflow\\lib\\site-packages\\tensorflow_core\\python\\framework\\indexed_slices.py:433: UserWarning: Converting sparse IndexedSlices to a dense Tensor of unknown shape. This may consume a large amount of memory.\n",
      "  \"Converting sparse IndexedSlices to a dense Tensor of unknown shape. \"\n"
     ]
    },
    {
     "name": "stdout",
     "output_type": "stream",
     "text": [
      "Train on 20000 samples, validate on 5000 samples\n",
      "Epoch 1/10\n",
      "20000/20000 [==============================] - 2s 78us/step - loss: 0.6591 - acc: 0.6368 - val_loss: 0.5774 - val_acc: 0.7444\n",
      "Epoch 2/10\n",
      "20000/20000 [==============================] - 2s 76us/step - loss: 0.4758 - acc: 0.8008 - val_loss: 0.4434 - val_acc: 0.7954\n",
      "Epoch 3/10\n",
      "20000/20000 [==============================] - 2s 76us/step - loss: 0.3721 - acc: 0.8391 - val_loss: 0.4074 - val_acc: 0.8120\n",
      "Epoch 4/10\n",
      "20000/20000 [==============================] - 2s 76us/step - loss: 0.3235 - acc: 0.8627 - val_loss: 0.3974 - val_acc: 0.8162\n",
      "Epoch 5/10\n",
      "20000/20000 [==============================] - 2s 78us/step - loss: 0.2909 - acc: 0.8781 - val_loss: 0.3995 - val_acc: 0.8176\n",
      "Epoch 6/10\n",
      "20000/20000 [==============================] - 2s 92us/step - loss: 0.2647 - acc: 0.8923 - val_loss: 0.4042 - val_acc: 0.8142\n",
      "Epoch 7/10\n",
      "20000/20000 [==============================] - 2s 77us/step - loss: 0.2415 - acc: 0.9038 - val_loss: 0.4117 - val_acc: 0.8126\n",
      "Epoch 8/10\n",
      "20000/20000 [==============================] - 2s 76us/step - loss: 0.2199 - acc: 0.9134 - val_loss: 0.4228 - val_acc: 0.8098\n",
      "Epoch 9/10\n",
      "20000/20000 [==============================] - 2s 75us/step - loss: 0.2004 - acc: 0.9233 - val_loss: 0.4351 - val_acc: 0.8062\n",
      "Epoch 10/10\n",
      "20000/20000 [==============================] - 1s 75us/step - loss: 0.1817 - acc: 0.9330 - val_loss: 0.4474 - val_acc: 0.8076\n"
     ]
    },
    {
     "data": {
      "text/plain": [
       "<keras.callbacks.callbacks.History at 0x1a7e082d888>"
      ]
     },
     "execution_count": 61,
     "metadata": {},
     "output_type": "execute_result"
    }
   ],
   "source": [
    "history = model.fit(x_train, y_train, epochs=10, batch_size=32, validation_split=0.2)\n",
    "history"
   ]
  },
  {
   "cell_type": "code",
   "execution_count": 62,
   "metadata": {},
   "outputs": [
    {
     "data": {
      "image/png": "[encoded data removed]",
      "text/plain": [
       "<Figure size 432x288 with 1 Axes>"
      ]
     },
     "metadata": {
      "needs_background": "light"
     },
     "output_type": "display_data"
    },
    {
     "data": {
      "image/png": "[encoded data removed]",
      "text/plain": [
       "<Figure size 432x288 with 1 Axes>"
      ]
     },
     "metadata": {
      "needs_background": "light"
     },
     "output_type": "display_data"
    }
   ],
   "source": [
    "output_plots(history)"
   ]
  },
  {
   "cell_type": "markdown",
   "metadata": {},
   "source": [
    "So, with just the embedding we get a classifier that can get 76% of the reviews correct (not bad, given the simplicity of the model - that we treat each word separately and don't consider inter-word relationships or sentence structure - and that we're only using the first 20 words of the review). I tried changing to the first 50 words and got to 80%."
   ]
  },
  {
   "cell_type": "markdown",
   "metadata": {},
   "source": [
    "## Using pre-trained embeddings instead of creating our own and downloading and using the raw text instead of pre-tokenized IMDB data from Keras"
   ]
  },
  {
   "cell_type": "code",
   "execution_count": 67,
   "metadata": {},
   "outputs": [],
   "source": [
    "import os\n",
    "\n",
    "imdb_dir = 'D:\\\\work\\\\data\\\\aclImdb_v1\\\\aclImdb'\n",
    "train_dir = os.path.join(imdb_dir, 'train')"
   ]
  },
  {
   "cell_type": "code",
   "execution_count": 88,
   "metadata": {},
   "outputs": [
    {
     "data": {
      "text/plain": [
       "(25000, 25000)"
      ]
     },
     "execution_count": 88,
     "metadata": {},
     "output_type": "execute_result"
    }
   ],
   "source": [
    "import sys\n",
    "\n",
    "labels = []\n",
    "texts = []\n",
    "\n",
    "# get one string per review, along w/ 0s and 1s for labels\n",
    "for label_type in ['neg', 'pos']:\n",
    "    dir_name = os.path.join(train_dir, label_type)\n",
    "    for fname in os.listdir(dir_name):\n",
    "        #print(dir_name, fname)\n",
    "        if fname[-4:] == '.txt':\n",
    "            f = open(os.path.join(dir_name, fname), encoding='utf-8')\n",
    "            #f = open(os.path.join(dir_name, fname))\n",
    "            \n",
    "            # handle bad chars that we can't read (could also figure out how to read them)\n",
    "            # to read them, i just need to not use the Windows OS default charmap encoding and instead specify\n",
    "            # encoding='utf-8' in the open call above.\n",
    "            try:\n",
    "                texts.append(f.read())\n",
    "                if label_type == 'neg':\n",
    "                    labels.append(0)\n",
    "                else:\n",
    "                    labels.append(1)\n",
    "            except UnicodeDecodeError as ude:\n",
    "                print(dir_name, fname)\n",
    "                print(sys.exc_info()[0], sys.exc_info()[1], sys.exc_info()[2])\n",
    "            finally:\n",
    "                f.close()\n",
    "                \n",
    "len(labels), len(texts)"
   ]
  },
  {
   "cell_type": "code",
   "execution_count": 89,
   "metadata": {},
   "outputs": [
    {
     "data": {
      "text/plain": [
       "\"Story of a man who has unnatural feelings for a pig. Starts out with a opening scene that is a terrific example of absurd comedy. A formal orchestra audience is turned into an insane, violent mob by the crazy chantings of it's singers. Unfortunately it stays absurd the WHOLE time with no general narrative eventually making it just too off putting. Even those from the era should be turned off. The cryptic dialogue would make Shakespeare seem easy to a third grader. On a technical level it's better than you might think with some good cinematography by future great Vilmos Zsigmond. Future stars Sally Kirkland and Frederic Forrest can be seen briefly.\""
      ]
     },
     "execution_count": 89,
     "metadata": {},
     "output_type": "execute_result"
    }
   ],
   "source": [
    "texts[0]"
   ]
  },
  {
   "cell_type": "code",
   "execution_count": 90,
   "metadata": {},
   "outputs": [
    {
     "data": {
      "text/plain": [
       "0"
      ]
     },
     "execution_count": 90,
     "metadata": {},
     "output_type": "execute_result"
    }
   ],
   "source": [
    "labels[1]"
   ]
  },
  {
   "cell_type": "markdown",
   "metadata": {},
   "source": [
    "And vectorize/tokenize the text, and get a training/validation split. Since the point of using pre-trained embeddings is to help when we have very small numbers of input data (otherwise training our own task/label-specific embedding may be better) we'll only use the first 200 samples to train our simple model.  "
   ]
  },
  {
   "cell_type": "code",
   "execution_count": 119,
   "metadata": {},
   "outputs": [
    {
     "name": "stdout",
     "output_type": "stream",
     "text": [
      "Found 88580 unique tokens.\n",
      "Shape of data tensor: (25000, 100)\n",
      "Shape of label tensor: (25000,)\n"
     ]
    }
   ],
   "source": [
    "from keras.preprocessing.text import Tokenizer\n",
    "from keras.preprocessing.sequence import pad_sequences\n",
    "import numpy as np\n",
    "\n",
    "maxlen = 100 # use only the first 100 words of each review\n",
    "training_samples = 200\n",
    "validation_samples = 10000\n",
    "# training_samples = 10000\n",
    "# validation_samples = 2000\n",
    "\n",
    "max_words = 10000 # use only the top 10K most common words in the dataset\n",
    "\n",
    "tokenizer = Tokenizer(num_words=max_words)\n",
    "tokenizer.fit_on_texts(texts)\n",
    "sequences = tokenizer.texts_to_sequences(texts)\n",
    "\n",
    "word_index = tokenizer.word_index\n",
    "print(f'Found {len(word_index)} unique tokens.')\n",
    "\n",
    "data = pad_sequences(sequences, maxlen=maxlen)\n",
    "\n",
    "labels = np.asarray(labels)\n",
    "print(f'Shape of data tensor: {data.shape}')\n",
    "print(f'Shape of label tensor: {labels.shape}')\n",
    "\n",
    "indices = np.arange(data.shape[0]) # first shuffle the data before doing the split, since by def all negative are first\n",
    "np.random.shuffle(indices)\n",
    "data = data[indices]\n",
    "labels = labels[indices]\n",
    "\n",
    "x_train = data[:training_samples]\n",
    "y_train = labels[:training_samples]\n",
    "x_val = data[training_samples: training_samples + validation_samples]\n",
    "y_val = labels[training_samples: training_samples + validation_samples]"
   ]
  },
  {
   "cell_type": "code",
   "execution_count": 111,
   "metadata": {},
   "outputs": [
    {
     "data": {
      "text/plain": [
       "25000"
      ]
     },
     "execution_count": 111,
     "metadata": {},
     "output_type": "execute_result"
    }
   ],
   "source": [
    "len(sequences)"
   ]
  },
  {
   "cell_type": "code",
   "execution_count": 112,
   "metadata": {},
   "outputs": [
    {
     "data": {
      "text/plain": [
       "[62, 4, 3, 129, 34, 44, 7576, 1414, 15, 3]"
      ]
     },
     "execution_count": 112,
     "metadata": {},
     "output_type": "execute_result"
    }
   ],
   "source": [
    "sequences[0][:10]"
   ]
  },
  {
   "cell_type": "markdown",
   "metadata": {},
   "source": [
    "The data var is shuffled after sequences so I don't think they'll match up."
   ]
  },
  {
   "cell_type": "code",
   "execution_count": 113,
   "metadata": {},
   "outputs": [
    {
     "data": {
      "text/plain": [
       "array([   1,  201,  281,    2,  201,  520,   10, 2743,   38,  400,   35,\n",
       "         11,   17,  211,    1, 2233,   43,    4,  744,  672,   21,    3,\n",
       "         19,   12,   22,   67,  866,  177,    2,  103,    2,  355,   11,\n",
       "          6,    3,   19,   12,   22,  468,    5,  157, 1305,   39,  190,\n",
       "          9,  142,    5,    1, 2018,   45, 2628,   39, 1244,    9,   13,\n",
       "         49,    5,   64, 4194,    1, 4194,  142,   18,  283,   14,  250,\n",
       "         14,    1,   83,   33,  141,    4,   66,    1,  159,  739,   14,\n",
       "       5922,  489, 2067,   53,    2,  128,   66,    2, 4806,   38,  390,\n",
       "          8,    1,   19,   12, 2530,   74,    3,  224,  125,   92,    9,\n",
       "         13])"
      ]
     },
     "execution_count": 113,
     "metadata": {},
     "output_type": "execute_result"
    }
   ],
   "source": [
    "data[0]"
   ]
  },
  {
   "cell_type": "code",
   "execution_count": 114,
   "metadata": {},
   "outputs": [
    {
     "data": {
      "text/plain": [
       "0"
      ]
     },
     "execution_count": 114,
     "metadata": {},
     "output_type": "execute_result"
    }
   ],
   "source": [
    "labels[0]"
   ]
  },
  {
   "cell_type": "markdown",
   "metadata": {},
   "source": [
    "Ok, so now I think we have what we had before when we used the pre-tokenized data from Keras - we have a set of observations/reviews, each of which has 100 integers, where each integer represents the index of a word in the entire set of top 10K words/tokens."
   ]
  },
  {
   "cell_type": "markdown",
   "metadata": {},
   "source": [
    "Now we'll handle the GloVe embeddings, which includes a 100-dimensional embedding for 400K words/tokens - i.e., for each of the 400K words/tokens, I think we get the location in a 100D space. In the downloaded data, this is in glove.6B.100d.txt. "
   ]
  },
  {
   "cell_type": "code",
   "execution_count": 96,
   "metadata": {},
   "outputs": [
    {
     "name": "stdout",
     "output_type": "stream",
     "text": [
      "Found 400000 word vectors.\n"
     ]
    }
   ],
   "source": [
    "glove_dir = 'D:\\\\work\\\\data\\\\glove.6B'\n",
    "\n",
    "embeddings_index = {}\n",
    "f = open(os.path.join(glove_dir, 'glove.6B.100d.txt'), encoding='utf-8')\n",
    "for line in f:\n",
    "    values = line.split()\n",
    "    word = values[0]\n",
    "    coefs = np.asarray(values[1:], dtype='float32')\n",
    "    embeddings_index[word] = coefs\n",
    "f.close()\n",
    "\n",
    "print(f'Found {len(embeddings_index)} word vectors.')"
   ]
  },
  {
   "cell_type": "code",
   "execution_count": 99,
   "metadata": {},
   "outputs": [
    {
     "data": {
      "text/plain": [
       "(400000, dict)"
      ]
     },
     "execution_count": 99,
     "metadata": {},
     "output_type": "execute_result"
    }
   ],
   "source": [
    "len(embeddings_index), type(embeddings_index)"
   ]
  },
  {
   "cell_type": "code",
   "execution_count": 101,
   "metadata": {},
   "outputs": [
    {
     "data": {
      "text/plain": [
       "(100,\n",
       " array([-0.071953,  0.23127 ,  0.023731, -0.50638 ,  0.33923 ,  0.1959  ,\n",
       "        -0.32943 ,  0.18364 , -0.18057 ,  0.28963 ,  0.20448 , -0.5496  ,\n",
       "         0.27399 ,  0.58327 ,  0.20468 , -0.49228 ,  0.19974 , -0.070237,\n",
       "        -0.88049 ,  0.29485 ,  0.14071 , -0.1009  ,  0.99449 ,  0.36973 ,\n",
       "         0.44554 ,  0.28998 , -0.1376  , -0.56365 , -0.029365, -0.4122  ,\n",
       "        -0.25269 ,  0.63181 , -0.44767 ,  0.24363 , -0.10813 ,  0.25164 ,\n",
       "         0.46967 ,  0.3755  , -0.23613 , -0.14129 , -0.44537 , -0.65737 ,\n",
       "        -0.042421, -0.28636 , -0.28811 ,  0.063766,  0.20281 , -0.53542 ,\n",
       "         0.41307 , -0.59722 , -0.38614 ,  0.19389 , -0.17809 ,  1.6618  ,\n",
       "        -0.011819, -2.3737  ,  0.058427, -0.2698  ,  1.2823  ,  0.81925 ,\n",
       "        -0.22322 ,  0.72932 , -0.053211,  0.43507 ,  0.85011 , -0.42935 ,\n",
       "         0.92664 ,  0.39051 ,  1.0585  , -0.24561 , -0.18265 , -0.5328  ,\n",
       "         0.059518, -0.66019 ,  0.18991 ,  0.28836 , -0.2434  ,  0.52784 ,\n",
       "        -0.65762 , -0.14081 ,  1.0491  ,  0.5134  , -0.23816 ,  0.69895 ,\n",
       "        -1.4813  , -0.2487  , -0.17936 , -0.059137, -0.08056 , -0.48782 ,\n",
       "         0.014487, -0.6259  , -0.32367 ,  0.41862 , -1.0807  ,  0.46742 ,\n",
       "        -0.49931 , -0.71895 ,  0.86894 ,  0.19539 ], dtype=float32))"
      ]
     },
     "execution_count": 101,
     "metadata": {},
     "output_type": "execute_result"
    }
   ],
   "source": [
    "len(embeddings_index['and']), embeddings_index['and']"
   ]
  },
  {
   "cell_type": "code",
   "execution_count": 102,
   "metadata": {},
   "outputs": [],
   "source": [
    "embedding_dim = 100\n",
    "\n",
    "embedding_matrix = np.zeros((max_words, embedding_dim))\n",
    "for word, i in word_index.items():\n",
    "    if i < max_words:\n",
    "        embedding_vector = embeddings_index.get(word)\n",
    "        if embedding_vector is not None:\n",
    "            embedding_matrix[i] = embedding_vector"
   ]
  },
  {
   "cell_type": "code",
   "execution_count": 103,
   "metadata": {},
   "outputs": [
    {
     "data": {
      "text/plain": [
       "(10000, 100)"
      ]
     },
     "execution_count": 103,
     "metadata": {},
     "output_type": "execute_result"
    }
   ],
   "source": [
    "embedding_matrix.shape"
   ]
  },
  {
   "cell_type": "code",
   "execution_count": 105,
   "metadata": {},
   "outputs": [
    {
     "data": {
      "text/plain": [
       "(array([-1.89700007e-01,  5.00239991e-02,  1.90840006e-01, -4.91839983e-02,\n",
       "        -8.97369981e-02,  2.10060000e-01, -5.49520016e-01,  9.83769968e-02,\n",
       "        -2.01350003e-01,  3.42409998e-01, -9.26769972e-02,  1.60999998e-01,\n",
       "        -1.32679999e-01, -2.81599998e-01,  1.87370002e-01, -4.29589987e-01,\n",
       "         9.60389972e-01,  1.39719993e-01, -1.07809997e+00,  4.05180007e-01,\n",
       "         5.05389988e-01, -5.50639987e-01,  4.84400004e-01,  3.80439997e-01,\n",
       "        -2.90549989e-03, -3.49420011e-01, -9.96960029e-02, -7.83680022e-01,\n",
       "         1.03629994e+00, -2.31399998e-01, -4.71210003e-01,  5.71259975e-01,\n",
       "        -2.14540005e-01,  3.59580010e-01, -4.83190000e-01,  1.08749998e+00,\n",
       "         2.85239995e-01,  1.24470003e-01, -3.92480008e-02, -7.67320022e-02,\n",
       "        -7.63429999e-01, -3.24090004e-01, -5.74899971e-01, -1.08930004e+00,\n",
       "        -4.18110013e-01,  4.51200008e-01,  1.21119998e-01, -5.13670027e-01,\n",
       "        -1.33489996e-01, -1.13779998e+00, -2.87680000e-01,  1.67740002e-01,\n",
       "         5.58040023e-01,  1.53869998e+00,  1.88590009e-02, -2.97210002e+00,\n",
       "        -2.42160007e-01, -9.24950004e-01,  2.19919991e+00,  2.82339990e-01,\n",
       "        -3.47799987e-01,  5.16210020e-01, -4.33869988e-01,  3.68519992e-01,\n",
       "         7.45729983e-01,  7.21020028e-02,  2.79309988e-01,  9.25689995e-01,\n",
       "        -5.03359996e-02, -8.58560026e-01, -1.35800004e-01, -9.25509989e-01,\n",
       "        -3.39910001e-01, -1.03939998e+00, -6.72030002e-02, -2.13789999e-01,\n",
       "        -4.76900011e-01,  2.13770002e-01, -8.40080023e-01,  5.25359996e-02,\n",
       "         5.92980027e-01,  2.96039999e-01, -6.76440001e-01,  1.39160007e-01,\n",
       "        -1.55040002e+00, -2.07650006e-01,  7.22199976e-01,  5.20560026e-01,\n",
       "        -7.62209967e-02, -1.51940003e-01, -1.31339997e-01,  5.86169995e-02,\n",
       "        -3.18690002e-01, -6.14189982e-01, -6.23929977e-01, -4.15479988e-01,\n",
       "        -3.81750017e-02, -3.98039997e-01,  4.76469994e-01, -1.59830004e-01]),\n",
       " 100)"
      ]
     },
     "execution_count": 105,
     "metadata": {},
     "output_type": "execute_result"
    }
   ],
   "source": [
    "embedding_matrix[5], len(embedding_matrix[5])"
   ]
  },
  {
   "cell_type": "code",
   "execution_count": 120,
   "metadata": {},
   "outputs": [
    {
     "name": "stdout",
     "output_type": "stream",
     "text": [
      "Model: \"sequential_6\"\n",
      "_________________________________________________________________\n",
      "Layer (type)                 Output Shape              Param #   \n",
      "=================================================================\n",
      "embedding_7 (Embedding)      (None, 100, 100)          1000000   \n",
      "_________________________________________________________________\n",
      "flatten_6 (Flatten)          (None, 10000)             0         \n",
      "_________________________________________________________________\n",
      "dense_8 (Dense)              (None, 32)                320032    \n",
      "_________________________________________________________________\n",
      "dense_9 (Dense)              (None, 1)                 33        \n",
      "=================================================================\n",
      "Total params: 1,320,065\n",
      "Trainable params: 1,320,065\n",
      "Non-trainable params: 0\n",
      "_________________________________________________________________\n"
     ]
    }
   ],
   "source": [
    "model = Sequential()\n",
    "model.add(Embedding(max_words, embedding_dim, input_length=maxlen))\n",
    "model.add(Flatten())\n",
    "model.add(Dense(32, activation='relu'))\n",
    "model.add(Dense(1, activation='sigmoid'))\n",
    "model.summary()"
   ]
  },
  {
   "cell_type": "markdown",
   "metadata": {},
   "source": [
    "The above creates an Embedding layer, but it starts w/ random weights and we want to use the weights from the pre-trained embedding data. Here's how..."
   ]
  },
  {
   "cell_type": "code",
   "execution_count": 121,
   "metadata": {},
   "outputs": [],
   "source": [
    "model.layers[0].set_weights([embedding_matrix])\n",
    "model.layers[0].trainable = False"
   ]
  },
  {
   "cell_type": "code",
   "execution_count": 122,
   "metadata": {},
   "outputs": [
    {
     "name": "stdout",
     "output_type": "stream",
     "text": [
      "Train on 200 samples, validate on 10000 samples\n",
      "Epoch 1/10\n",
      "200/200 [==============================] - 1s 3ms/step - loss: 1.2462 - acc: 0.5350 - val_loss: 0.7585 - val_acc: 0.5003\n",
      "Epoch 2/10\n",
      "200/200 [==============================] - 0s 2ms/step - loss: 0.6526 - acc: 0.6150 - val_loss: 0.7225 - val_acc: 0.5044\n",
      "Epoch 3/10\n",
      "200/200 [==============================] - 0s 2ms/step - loss: 0.4654 - acc: 0.8450 - val_loss: 1.3322 - val_acc: 0.4995\n",
      "Epoch 4/10\n",
      "200/200 [==============================] - 0s 2ms/step - loss: 0.4081 - acc: 0.9050 - val_loss: 0.7212 - val_acc: 0.5045\n",
      "Epoch 5/10\n",
      "200/200 [==============================] - 0s 2ms/step - loss: 0.3231 - acc: 0.8850 - val_loss: 0.7249 - val_acc: 0.5042\n",
      "Epoch 6/10\n",
      "200/200 [==============================] - 0s 2ms/step - loss: 0.3028 - acc: 0.8950 - val_loss: 0.9636 - val_acc: 0.4996\n",
      "Epoch 7/10\n",
      "200/200 [==============================] - 0s 2ms/step - loss: 0.1867 - acc: 0.9600 - val_loss: 1.0555 - val_acc: 0.4987\n",
      "Epoch 8/10\n",
      "200/200 [==============================] - 0s 2ms/step - loss: 0.1537 - acc: 0.9800 - val_loss: 0.9269 - val_acc: 0.5032\n",
      "Epoch 9/10\n",
      "200/200 [==============================] - 0s 2ms/step - loss: 0.0806 - acc: 1.0000 - val_loss: 0.8537 - val_acc: 0.4983\n",
      "Epoch 10/10\n",
      "200/200 [==============================] - 0s 2ms/step - loss: 0.2950 - acc: 0.8250 - val_loss: 0.8097 - val_acc: 0.5036\n"
     ]
    }
   ],
   "source": [
    "model.compile(optimizer='rmsprop', loss='binary_crossentropy', metrics=['acc'])\n",
    "history = model.fit(x_train, y_train, epochs=10, batch_size=32, validation_data=(x_val, y_val))\n",
    "model.save_weights('pre_trained_glove_model.h5')"
   ]
  },
  {
   "cell_type": "code",
   "execution_count": 123,
   "metadata": {},
   "outputs": [
    {
     "data": {
      "image/png": "[encoded data removed]",
      "text/plain": [
       "<Figure size 432x288 with 1 Axes>"
      ]
     },
     "metadata": {
      "needs_background": "light"
     },
     "output_type": "display_data"
    },
    {
     "data": {
      "image/png": "[encoded data removed]",
      "text/plain": [
       "<Figure size 432x288 with 1 Axes>"
      ]
     },
     "metadata": {
      "needs_background": "light"
     },
     "output_type": "display_data"
    }
   ],
   "source": [
    "output_plots(history)"
   ]
  },
  {
   "cell_type": "markdown",
   "metadata": {},
   "source": [
    "I get around 50% accuracy w/ 200 training samples, and when I change it to 10K samples I don't get much better - maybe 52-53% "
   ]
  },
  {
   "cell_type": "markdown",
   "metadata": {},
   "source": [
    "There's a bit more in the book about comparing training your own task-specific embedding, and also using the model to get a score w/ the test data. In none of them do we get better than around 55%, which the book puts down to only using 200 training samples (although I wonder if it's also the model - I used 10K and saw about the same - and how much doing something more sophisticated w/ the structure - more than just an embedding layer - would help)."
   ]
  },
  {
   "cell_type": "markdown",
   "metadata": {},
   "source": [
    "# Recurrent neural networks, introduced"
   ]
  },
  {
   "cell_type": "code",
   "execution_count": 10,
   "metadata": {},
   "outputs": [
    {
     "name": "stdout",
     "output_type": "stream",
     "text": [
      "(25000,) (25000,) (25000,) (25000,)\n",
      "(25000, 500) (25000, 500)\n"
     ]
    }
   ],
   "source": [
    "from keras.datasets import imdb\n",
    "from keras.preprocessing import sequence\n",
    "\n",
    "max_features = 10000\n",
    "maxlen = 500\n",
    "#batch_size = 32\n",
    "\n",
    "(input_train, y_train), (input_test, y_test) = imdb.load_data(num_words=max_features)\n",
    "print (input_train.shape, y_train.shape, input_test.shape, y_test.shape)\n",
    "\n",
    "# turn the lists of integers (one for each review) into a 2D integer tensor of shape (samples, max_words_per_obs)\n",
    "input_train = sequence.pad_sequences(input_train, maxlen=maxlen)\n",
    "input_test = sequence.pad_sequences(input_test, maxlen=maxlen)\n",
    "print (input_train.shape, input_test.shape)"
   ]
  },
  {
   "cell_type": "code",
   "execution_count": 11,
   "metadata": {},
   "outputs": [
    {
     "name": "stderr",
     "output_type": "stream",
     "text": [
      "C:\\Users\\andrewe\\Anaconda3\\envs\\tensorflow\\lib\\site-packages\\tensorflow_core\\python\\framework\\indexed_slices.py:433: UserWarning: Converting sparse IndexedSlices to a dense Tensor of unknown shape. This may consume a large amount of memory.\n",
      "  \"Converting sparse IndexedSlices to a dense Tensor of unknown shape. \"\n"
     ]
    },
    {
     "name": "stdout",
     "output_type": "stream",
     "text": [
      "Train on 20000 samples, validate on 5000 samples\n",
      "Epoch 1/10\n",
      "20000/20000 [==============================] - 26s 1ms/step - loss: 0.6386 - acc: 0.6296 - val_loss: 0.5188 - val_acc: 0.7838\n",
      "Epoch 2/10\n",
      "20000/20000 [==============================] - 26s 1ms/step - loss: 0.4019 - acc: 0.8340 - val_loss: 0.4692 - val_acc: 0.8030\n",
      "Epoch 3/10\n",
      "20000/20000 [==============================] - 26s 1ms/step - loss: 0.2936 - acc: 0.8849 - val_loss: 0.5361 - val_acc: 0.7704\n",
      "Epoch 4/10\n",
      "20000/20000 [==============================] - 25s 1ms/step - loss: 0.2177 - acc: 0.9175 - val_loss: 0.3538 - val_acc: 0.8666\n",
      "Epoch 5/10\n",
      "20000/20000 [==============================] - 26s 1ms/step - loss: 0.1489 - acc: 0.9463 - val_loss: 0.3981 - val_acc: 0.8580\n",
      "Epoch 6/10\n",
      "20000/20000 [==============================] - 25s 1ms/step - loss: 0.1278 - acc: 0.9566 - val_loss: 0.5651 - val_acc: 0.8144\n",
      "Epoch 7/10\n",
      "20000/20000 [==============================] - 26s 1ms/step - loss: 0.0873 - acc: 0.9714 - val_loss: 0.4753 - val_acc: 0.8454\n",
      "Epoch 8/10\n",
      "20000/20000 [==============================] - 26s 1ms/step - loss: 0.0455 - acc: 0.9861 - val_loss: 0.4839 - val_acc: 0.8492\n",
      "Epoch 9/10\n",
      "20000/20000 [==============================] - 26s 1ms/step - loss: 0.0342 - acc: 0.9897 - val_loss: 0.5988 - val_acc: 0.8164\n",
      "Epoch 10/10\n",
      "20000/20000 [==============================] - 26s 1ms/step - loss: 0.0171 - acc: 0.9954 - val_loss: 0.7244 - val_acc: 0.7978\n"
     ]
    }
   ],
   "source": [
    "from keras.models import Sequential\n",
    "from keras.layers import Dense, Embedding, SimpleRNN\n",
    "\n",
    "model = Sequential()\n",
    "model.add(Embedding(max_features, 32))\n",
    "model.add(SimpleRNN(32))\n",
    "model.add(Dense(1, activation='sigmoid'))\n",
    "\n",
    "model.compile(optimizer='rmsprop', loss='binary_crossentropy', metrics=['acc'])\n",
    "history = model.fit(input_train, y_train, epochs=10, batch_size=128, validation_split=0.2)"
   ]
  },
  {
   "cell_type": "code",
   "execution_count": 12,
   "metadata": {},
   "outputs": [
    {
     "data": {
      "image/png": "[encoded data removed]",
      "text/plain": [
       "<Figure size 432x288 with 1 Axes>"
      ]
     },
     "metadata": {
      "needs_background": "light"
     },
     "output_type": "display_data"
    },
    {
     "data": {
      "image/png": "[encoded data removed]",
      "text/plain": [
       "<Figure size 432x288 with 1 Axes>"
      ]
     },
     "metadata": {
      "needs_background": "light"
     },
     "output_type": "display_data"
    }
   ],
   "source": [
    "output_plots(history)"
   ]
  },
  {
   "cell_type": "markdown",
   "metadata": {},
   "source": [
    "## LSTM and GRU layers are better at handling long sequences (like text) than SimpleRNN"
   ]
  },
  {
   "cell_type": "markdown",
   "metadata": {},
   "source": [
    "SimpleRNN in practice hits a vanishing gradient problem with long sequences - older stuff gets lost. LSTM provides a way to carry forward older information that works better in practice."
   ]
  },
  {
   "cell_type": "code",
   "execution_count": 13,
   "metadata": {},
   "outputs": [],
   "source": [
    "def compile_and_run_classification_model(model, train_features, train_labels, epochs=10, batch_size=128):\n",
    "    model.compile(optimizer='rmsprop', loss='binary_crossentropy', metrics=['acc'])\n",
    "    history = model.fit(train_features, train_labels, epochs=epochs, batch_size=batch_size, validation_split=0.2)\n",
    "    return history"
   ]
  },
  {
   "cell_type": "code",
   "execution_count": 17,
   "metadata": {},
   "outputs": [
    {
     "name": "stderr",
     "output_type": "stream",
     "text": [
      "C:\\Users\\andrewe\\Anaconda3\\envs\\tensorflow\\lib\\site-packages\\tensorflow_core\\python\\framework\\indexed_slices.py:433: UserWarning: Converting sparse IndexedSlices to a dense Tensor of unknown shape. This may consume a large amount of memory.\n",
      "  \"Converting sparse IndexedSlices to a dense Tensor of unknown shape. \"\n"
     ]
    },
    {
     "name": "stdout",
     "output_type": "stream",
     "text": [
      "Train on 20000 samples, validate on 5000 samples\n",
      "Epoch 1/10\n",
      "20000/20000 [==============================] - 42s 2ms/step - loss: 0.4890 - acc: 0.7656 - val_loss: 0.3294 - val_acc: 0.8672\n",
      "Epoch 2/10\n",
      "20000/20000 [==============================] - 42s 2ms/step - loss: 0.2859 - acc: 0.8878 - val_loss: 0.3581 - val_acc: 0.8532\n",
      "Epoch 3/10\n",
      "20000/20000 [==============================] - 42s 2ms/step - loss: 0.2313 - acc: 0.9122 - val_loss: 0.3694 - val_acc: 0.8722\n",
      "Epoch 4/10\n",
      "20000/20000 [==============================] - 42s 2ms/step - loss: 0.1959 - acc: 0.9287 - val_loss: 0.3486 - val_acc: 0.8702\n",
      "Epoch 5/10\n",
      "20000/20000 [==============================] - 42s 2ms/step - loss: 0.1729 - acc: 0.9374 - val_loss: 0.2942 - val_acc: 0.8836\n",
      "Epoch 6/10\n",
      "20000/20000 [==============================] - 42s 2ms/step - loss: 0.1530 - acc: 0.9439 - val_loss: 0.3643 - val_acc: 0.8544\n",
      "Epoch 7/10\n",
      "20000/20000 [==============================] - 42s 2ms/step - loss: 0.1420 - acc: 0.9502 - val_loss: 0.3695 - val_acc: 0.8768\n",
      "Epoch 8/10\n",
      "20000/20000 [==============================] - 42s 2ms/step - loss: 0.1283 - acc: 0.9555 - val_loss: 0.3525 - val_acc: 0.8474\n",
      "Epoch 9/10\n",
      "20000/20000 [==============================] - 42s 2ms/step - loss: 0.1168 - acc: 0.9591 - val_loss: 0.4143 - val_acc: 0.8714\n",
      "Epoch 10/10\n",
      "20000/20000 [==============================] - 42s 2ms/step - loss: 0.1105 - acc: 0.9607 - val_loss: 0.3804 - val_acc: 0.8762\n"
     ]
    },
    {
     "data": {
      "image/png": "[encoded data removed]",
      "text/plain": [
       "<Figure size 432x288 with 1 Axes>"
      ]
     },
     "metadata": {
      "needs_background": "light"
     },
     "output_type": "display_data"
    },
    {
     "data": {
      "image/png": "[encoded data removed]",
      "text/plain": [
       "<Figure size 432x288 with 1 Axes>"
      ]
     },
     "metadata": {
      "needs_background": "light"
     },
     "output_type": "display_data"
    }
   ],
   "source": [
    "from keras.layers import LSTM\n",
    "\n",
    "model = Sequential()\n",
    "model.add(Embedding(max_features, 32))\n",
    "model.add(LSTM(32))\n",
    "model.add(Dense(1, activation = 'sigmoid'))\n",
    "\n",
    "history = compile_and_run_classification_model(model, input_train, y_train)\n",
    "output_plots(history)"
   ]
  },
  {
   "cell_type": "markdown",
   "metadata": {},
   "source": [
    "While this is better than the SimpleRNN model, it's still only about the same as the simple fully connected model from a previous chapter. But this uses a more complicated model that takes a lot longer to compute (I think at a minimum because each LSTM pass is actually many passes inside). According to the book, part of it is that we're using less data here - only the first 500 words of the review vs. all - and that we didn't check hyperparameters like the dimensionality of the embeddings layer or the LSTM output dimensionality, and that we're not regularizing. That said, we didn't do the latter things for the simple one either. Really, the book says, it's because a sentiment analysis problem doesn't actually need or get much of anything from the \"global, long-term structure\" of the review - just looking at the count of particular words/word frequency in the review is enough to make a good guess about whether the review is positive or negative. If you can solve a problem with a simpler network, that's good enough.    \n",
    "\n",
    "Where does LSTM come into play? The book says things like machine translation and question-and-answering."
   ]
  },
  {
   "cell_type": "markdown",
   "metadata": {},
   "source": [
    "# Temperature forecasting - i.e., sequences"
   ]
  },
  {
   "cell_type": "markdown",
   "metadata": {},
   "source": [
    "## Load data"
   ]
  },
  {
   "cell_type": "code",
   "execution_count": 49,
   "metadata": {},
   "outputs": [
    {
     "name": "stdout",
     "output_type": "stream",
     "text": [
      "['\"Date Time\"', '\"p (mbar)\"', '\"T (degC)\"', '\"Tpot (K)\"', '\"Tdew (degC)\"', '\"rh (%)\"', '\"VPmax (mbar)\"', '\"VPact (mbar)\"', '\"VPdef (mbar)\"', '\"sh (g/kg)\"', '\"H2OC (mmol/mol)\"', '\"rho (g/m**3)\"', '\"wv (m/s)\"', '\"max. wv (m/s)\"', '\"wd (deg)\"']\n",
      "420551\n"
     ]
    }
   ],
   "source": [
    "import os\n",
    "\n",
    "data_dir = 'd:/work/data/jena_climate/'\n",
    "fname = os.path.join(data_dir, 'jena_climate_2009_2016.csv')\n",
    "\n",
    "with open(fname, 'r') as f:\n",
    "    data = f.read()\n",
    "\n",
    "lines = data.split('\\n')\n",
    "header = lines[0].split(',')\n",
    "lines = lines[1:]\n",
    "\n",
    "print(header)\n",
    "print(len(lines))"
   ]
  },
  {
   "cell_type": "code",
   "execution_count": 50,
   "metadata": {},
   "outputs": [
    {
     "data": {
      "text/plain": [
       "'01.01.2009 00:10:00,996.52,-8.02,265.40,-8.90,93.30,3.33,3.11,0.22,1.94,3.12,1307.75,1.03,1.75,152.30'"
      ]
     },
     "execution_count": 50,
     "metadata": {},
     "output_type": "execute_result"
    }
   ],
   "source": [
    "lines[0]"
   ]
  },
  {
   "cell_type": "code",
   "execution_count": 51,
   "metadata": {},
   "outputs": [],
   "source": [
    "import numpy as np\n",
    "\n",
    "float_data = np.zeros((len(lines), len(header) - 1))\n",
    "for i, line in enumerate(lines):\n",
    "    values = [float(x) for x in line.split(',')[1:]] # index to get rid of first col, which is the date time\n",
    "    float_data[i, :] = values"
   ]
  },
  {
   "cell_type": "code",
   "execution_count": 52,
   "metadata": {},
   "outputs": [
    {
     "data": {
      "text/plain": [
       "array([ 9.96520e+02, -8.02000e+00,  2.65400e+02, -8.90000e+00,\n",
       "        9.33000e+01,  3.33000e+00,  3.11000e+00,  2.20000e-01,\n",
       "        1.94000e+00,  3.12000e+00,  1.30775e+03,  1.03000e+00,\n",
       "        1.75000e+00,  1.52300e+02])"
      ]
     },
     "execution_count": 52,
     "metadata": {},
     "output_type": "execute_result"
    }
   ],
   "source": [
    "float_data[0]"
   ]
  },
  {
   "cell_type": "code",
   "execution_count": 53,
   "metadata": {},
   "outputs": [
    {
     "data": {
      "text/plain": [
       "[<matplotlib.lines.Line2D at 0x1fd5dd0a1c8>]"
      ]
     },
     "execution_count": 53,
     "metadata": {},
     "output_type": "execute_result"
    },
    {
     "data": {
      "image/png": "[encoded data removed]",
      "text/plain": [
       "<Figure size 432x288 with 1 Axes>"
      ]
     },
     "metadata": {
      "needs_background": "light"
     },
     "output_type": "display_data"
    }
   ],
   "source": [
    "from matplotlib import pyplot as plt\n",
    "\n",
    "temp = float_data[:, 1] # index position 1 is temp in Celsius, per above header\n",
    "plt.plot(range(len(temp)), temp)"
   ]
  },
  {
   "cell_type": "markdown",
   "metadata": {},
   "source": [
    "We have one observation taken every 10m, so in a day we have 144 data points. The next plot shows 10 days worth of data. (This was a cold set of days, since the y-axis is showing in Celsius.) "
   ]
  },
  {
   "cell_type": "code",
   "execution_count": 54,
   "metadata": {},
   "outputs": [
    {
     "data": {
      "text/plain": [
       "[<matplotlib.lines.Line2D at 0x1fd5dc78548>]"
      ]
     },
     "execution_count": 54,
     "metadata": {},
     "output_type": "execute_result"
    },
    {
     "data": {
      "image/png": "[encoded data removed]",
      "text/plain": [
       "<Figure size 432x288 with 1 Axes>"
      ]
     },
     "metadata": {
      "needs_background": "light"
     },
     "output_type": "display_data"
    }
   ],
   "source": [
    "plt.plot(range(1440), temp[:1440])"
   ]
  },
  {
   "cell_type": "markdown",
   "metadata": {},
   "source": [
    "## Prep data"
   ]
  },
  {
   "cell_type": "markdown",
   "metadata": {},
   "source": [
    "What we're doing: \"given data going as far back as lookback timesteps (a timestep is 10 minutes) and sampled every steps timesteps, can you predict the temperature in delay timesteps?\""
   ]
  },
  {
   "cell_type": "code",
   "execution_count": 55,
   "metadata": {},
   "outputs": [],
   "source": [
    "training_size = 200000\n",
    "validation_size = 100000"
   ]
  },
  {
   "cell_type": "markdown",
   "metadata": {},
   "source": [
    "Data's already all numeric so no vectorization needed, but on different scales, so we'll standardize it."
   ]
  },
  {
   "cell_type": "code",
   "execution_count": 56,
   "metadata": {},
   "outputs": [
    {
     "data": {
      "text/plain": [
       "array([ 988.88635885,    9.07734895,  283.14631345,    4.44854725,\n",
       "         75.35405895,   13.3829553 ,    9.29695535,    4.08591725,\n",
       "          5.8752111 ,    9.40521005, 1217.51429655,    2.1510037 ,\n",
       "          3.56950915,  176.21703355])"
      ]
     },
     "execution_count": 56,
     "metadata": {},
     "output_type": "execute_result"
    }
   ],
   "source": [
    "mean = float_data[:training_size].mean(axis=0)\n",
    "float_data -= mean\n",
    "\n",
    "mean"
   ]
  },
  {
   "cell_type": "code",
   "execution_count": 57,
   "metadata": {},
   "outputs": [
    {
     "data": {
      "text/plain": [
       "array([  7.63364115, -17.09734895, -17.74631345, -13.34854725,\n",
       "        17.94594105, -10.0529553 ,  -6.18695535,  -3.86591725,\n",
       "        -3.9352111 ,  -6.28521005,  90.23570345,  -1.1210037 ,\n",
       "        -1.81950915, -23.91703355])"
      ]
     },
     "execution_count": 57,
     "metadata": {},
     "output_type": "execute_result"
    }
   ],
   "source": [
    "float_data[0]"
   ]
  },
  {
   "cell_type": "code",
   "execution_count": 58,
   "metadata": {},
   "outputs": [
    {
     "data": {
      "text/plain": [
       "array([ 8.48043388,  8.85249908,  8.95324185,  7.16584991, 16.72731652,\n",
       "        7.68914559,  4.19808168,  4.84034436,  2.66564926,  4.25206364,\n",
       "       42.48884277,  1.53666449,  2.33067298, 86.61322998])"
      ]
     },
     "execution_count": 58,
     "metadata": {},
     "output_type": "execute_result"
    }
   ],
   "source": [
    "std = float_data[:training_size].std(axis=0)\n",
    "float_data /= std\n",
    "\n",
    "std"
   ]
  },
  {
   "cell_type": "code",
   "execution_count": 59,
   "metadata": {},
   "outputs": [
    {
     "data": {
      "text/plain": [
       "array([ 0.90014748, -1.93135845, -1.98211036, -1.86280029,  1.07285236,\n",
       "       -1.30742164, -1.47375773, -0.79868641, -1.4762674 , -1.47815522,\n",
       "        2.12375056, -0.72950452, -0.78067973, -0.27613603])"
      ]
     },
     "execution_count": 59,
     "metadata": {},
     "output_type": "execute_result"
    }
   ],
   "source": [
    "float_data[0]"
   ]
  },
  {
   "cell_type": "code",
   "execution_count": 60,
   "metadata": {},
   "outputs": [
    {
     "data": {
      "text/plain": [
       "[<matplotlib.lines.Line2D at 0x1fd5d7ac108>]"
      ]
     },
     "execution_count": 60,
     "metadata": {},
     "output_type": "execute_result"
    },
    {
     "data": {
      "image/png": "[encoded data removed]",
      "text/plain": [
       "<Figure size 432x288 with 1 Axes>"
      ]
     },
     "metadata": {
      "needs_background": "light"
     },
     "output_type": "display_data"
    }
   ],
   "source": [
    "temp = float_data[:, 1]\n",
    "plt.plot(range(len(temp)), temp)"
   ]
  },
  {
   "cell_type": "code",
   "execution_count": 61,
   "metadata": {},
   "outputs": [
    {
     "data": {
      "text/plain": [
       "[<matplotlib.lines.Line2D at 0x1fd5d9b2c88>]"
      ]
     },
     "execution_count": 61,
     "metadata": {},
     "output_type": "execute_result"
    },
    {
     "data": {
      "image/png": "[encoded data removed]",
      "text/plain": [
       "<Figure size 432x288 with 1 Axes>"
      ]
     },
     "metadata": {
      "needs_background": "light"
     },
     "output_type": "display_data"
    }
   ],
   "source": [
    "plt.plot(range(1440), temp[:1440])"
   ]
  },
  {
   "cell_type": "code",
   "execution_count": 62,
   "metadata": {},
   "outputs": [],
   "source": [
    "def generator(data, lookback, delay, min_index, max_index, shuffle=False, batch_size=128, step=6):\n",
    "    if max_index is None:\n",
    "        max_index = len(data) - delay - 1\n",
    "    \n",
    "    i = min_index + lookback\n",
    "    \n",
    "    while True:\n",
    "        if shuffle:\n",
    "            rows = np.random.randint(min_index + lookback, max_index, size=batch_size)\n",
    "        else:\n",
    "            if i + batch_size >= max_index:\n",
    "                i = min_index + lookback\n",
    "            rows = np.arange(i, min(i + batch_size, max_index))\n",
    "            i += len(rows)\n",
    "            \n",
    "        samples = np.zeros((len(rows), lookback // step, data.shape[-1]))\n",
    "        targets = np.zeros((len(rows),))\n",
    "        \n",
    "        for j, row in enumerate(rows):\n",
    "            indices = range(rows[j] - lookback, rows[j], step)\n",
    "            samples[j] = data[indices]\n",
    "            targets[j] = data[rows[j] + delay][1]\n",
    "        \n",
    "        yield samples, targets"
   ]
  },
  {
   "cell_type": "code",
   "execution_count": 80,
   "metadata": {},
   "outputs": [],
   "source": [
    "# each obs/timestep in the orig data is separated by 10m, so 1440 rows repr 1440 * 10m = 14,400m/240 hrs/10 days \n",
    "\n",
    "lookback = 1440 # how far does input data go\n",
    "step = 6        # how much to sample - get each n row, so 6 means get one per hour \n",
    "delay = 144     # how many timesteps in the future is the target value we want to predict\n",
    "batch_size = 128 "
   ]
  },
  {
   "cell_type": "code",
   "execution_count": 64,
   "metadata": {},
   "outputs": [
    {
     "data": {
      "text/plain": [
       "(200000, 100000, 200001, 300000, 769, 930)"
      ]
     },
     "execution_count": 64,
     "metadata": {},
     "output_type": "execute_result"
    }
   ],
   "source": [
    "val_min_index = training_size + 1\n",
    "val_max_index = training_size + validation_size\n",
    "\n",
    "train_gen = generator(float_data, lookback, delay,\n",
    "                      min_index=0, \n",
    "                      max_index=training_size, shuffle=True, step=step, batch_size=batch_size)\n",
    "\n",
    "val_gen = generator(float_data, lookback, delay, \n",
    "                    min_index=val_min_index, \n",
    "                    max_index=val_max_index, step=step, batch_size=batch_size)\n",
    "\n",
    "test_gen = generator(float_data, lookback, delay,\n",
    "                     min_index=val_max_index + 1,\n",
    "                     max_index=None, step=step, batch_size=batch_size)\n",
    "\n",
    "val_steps = (val_max_index - val_min_index - lookback) // batch_size # how many steps to draw from val_gen to see full val set\n",
    "test_steps = (len(float_data) - (val_max_index + 1) - lookback) // batch_size # and from test_gen to get full test set\n",
    "\n",
    "training_size, validation_size, val_min_index, val_max_index, val_steps, test_steps"
   ]
  },
  {
   "cell_type": "markdown",
   "metadata": {},
   "source": [
    "## Common sense baseline - this time w/o ML"
   ]
  },
  {
   "cell_type": "markdown",
   "metadata": {},
   "source": [
    "Baselines are good, so you can really determine how you're doing (don't forget a binary classifier in a situation where 90% of the data is of one class - I can get 90% accuracy by always returning the same thing!). _What_ a baseline is specifically varies though depending on the problem and data. For ex, in the classifier example, the baseline is 90% with no work at all. Sometimes the baseline can be a very simple model - for ex, linear or logistic regression.\n",
    "\n",
    "Here we'll make the common sense baseline just be to predict that the weather tomorrow will be the same as the weather today. We'll use the mean absolute error (MAE) - the average of the absolute value of the error for each observation. In NumPy this is simply:\n",
    "\n",
    "    np.mean(np.abs(predictions - targets))"
   ]
  },
  {
   "cell_type": "code",
   "execution_count": 78,
   "metadata": {},
   "outputs": [
    {
     "data": {
      "text/plain": [
       "0.2897359729905486"
      ]
     },
     "execution_count": 78,
     "metadata": {},
     "output_type": "execute_result"
    }
   ],
   "source": [
    "batch_maes = []\n",
    "for i in range(val_steps): # one iteration to calc for one batch (of many)\n",
    "    samples, targets = next(val_gen)\n",
    "    preds = samples[:, -1, 1]\n",
    "    mae = np.mean(np.abs(preds - targets))\n",
    "    batch_maes.append(mae)\n",
    "    \n",
    "mae_raw = np.mean(batch_maes) # and take the mean of the errors for each batch (each batch is same size so equally weighted is fine)\n",
    "mae_raw"
   ]
  },
  {
   "cell_type": "markdown",
   "metadata": {},
   "source": [
    "We standardized above, so the MAE of 0.29 above isn't immediately understandable - how many degrees Celsius is this? We divided by the std dev, so we multiple to get the actual degrees Celsius."
   ]
  },
  {
   "cell_type": "code",
   "execution_count": 79,
   "metadata": {},
   "outputs": [
    {
     "data": {
      "text/plain": [
       "2.564887434980494"
      ]
     },
     "execution_count": 79,
     "metadata": {},
     "output_type": "execute_result"
    }
   ],
   "source": [
    "mae_raw * std[1] # index 1 is the temp"
   ]
  },
  {
   "cell_type": "markdown",
   "metadata": {},
   "source": [
    "So our predictions are off by 2.57 degrees Celsius w/ the common sense baseline."
   ]
  },
  {
   "cell_type": "markdown",
   "metadata": {},
   "source": [
    "## Start with a very basic ML model"
   ]
  },
  {
   "cell_type": "markdown",
   "metadata": {},
   "source": [
    "Like before, we'll do a simple model by flattening the data and running it through a few fully-connected Dense layers. No activation function for the last layer, since this is a regression problem. We'll evaluate on the same data with the same metric as the baseline above, which means the results will be comparable."
   ]
  },
  {
   "cell_type": "code",
   "execution_count": 69,
   "metadata": {},
   "outputs": [],
   "source": [
    "from keras.models import Sequential\n",
    "from keras import layers\n",
    "from keras.optimizers import RMSprop"
   ]
  },
  {
   "cell_type": "code",
   "execution_count": 81,
   "metadata": {},
   "outputs": [
    {
     "data": {
      "text/plain": [
       "(1440, 6, 240, 240, 14)"
      ]
     },
     "execution_count": 81,
     "metadata": {},
     "output_type": "execute_result"
    }
   ],
   "source": [
    "lookback, step, lookback // step, lookback // 6, float_data.shape[-1]"
   ]
  },
  {
   "cell_type": "code",
   "execution_count": 82,
   "metadata": {},
   "outputs": [
    {
     "name": "stdout",
     "output_type": "stream",
     "text": [
      "Model: \"sequential_3\"\n",
      "_________________________________________________________________\n",
      "Layer (type)                 Output Shape              Param #   \n",
      "=================================================================\n",
      "flatten_3 (Flatten)          (None, 3360)              0         \n",
      "_________________________________________________________________\n",
      "dense_5 (Dense)              (None, 32)                107552    \n",
      "_________________________________________________________________\n",
      "dense_6 (Dense)              (None, 1)                 33        \n",
      "=================================================================\n",
      "Total params: 107,585\n",
      "Trainable params: 107,585\n",
      "Non-trainable params: 0\n",
      "_________________________________________________________________\n"
     ]
    }
   ],
   "source": [
    "model = Sequential()\n",
    "model.add(layers.Flatten(input_shape=(lookback // step, float_data.shape[-1])))\n",
    "model.add(layers.Dense(32, activation='relu'))\n",
    "model.add(layers.Dense(1))\n",
    "\n",
    "model.summary()"
   ]
  },
  {
   "cell_type": "code",
   "execution_count": 83,
   "metadata": {},
   "outputs": [
    {
     "name": "stdout",
     "output_type": "stream",
     "text": [
      "Epoch 1/20\n",
      "500/500 [==============================] - 11s 22ms/step - loss: 1.4449 - val_loss: 0.1510\n",
      "Epoch 2/20\n",
      "500/500 [==============================] - 10s 20ms/step - loss: 0.4485 - val_loss: 0.1780\n",
      "Epoch 3/20\n",
      "500/500 [==============================] - 10s 20ms/step - loss: 0.2934 - val_loss: 0.3480\n",
      "Epoch 4/20\n",
      "500/500 [==============================] - 10s 20ms/step - loss: 0.2692 - val_loss: 0.1635\n",
      "Epoch 5/20\n",
      "500/500 [==============================] - 10s 21ms/step - loss: 0.2559 - val_loss: 0.1552\n",
      "Epoch 6/20\n",
      "500/500 [==============================] - 10s 21ms/step - loss: 0.2455 - val_loss: 0.2581\n",
      "Epoch 7/20\n",
      "500/500 [==============================] - 10s 21ms/step - loss: 0.2375 - val_loss: 0.2394\n",
      "Epoch 8/20\n",
      "500/500 [==============================] - 11s 21ms/step - loss: 0.2307 - val_loss: 0.23311s - loss: - \n",
      "Epoch 9/20\n",
      "500/500 [==============================] - 11s 21ms/step - loss: 0.2264 - val_loss: 0.2742\n",
      "Epoch 10/20\n",
      "500/500 [==============================] - 10s 21ms/step - loss: 0.2208 - val_loss: 0.3127\n",
      "Epoch 11/20\n",
      "500/500 [==============================] - 10s 20ms/step - loss: 0.2187 - val_loss: 0.3864\n",
      "Epoch 12/20\n",
      "500/500 [==============================] - 10s 20ms/step - loss: 0.2140 - val_loss: 0.2060\n",
      "Epoch 13/20\n",
      "500/500 [==============================] - 10s 21ms/step - loss: 0.2132 - val_loss: 0.2643\n",
      "Epoch 14/20\n",
      "500/500 [==============================] - 11s 21ms/step - loss: 0.2094 - val_loss: 0.4167\n",
      "Epoch 15/20\n",
      "500/500 [==============================] - 10s 21ms/step - loss: 0.2052 - val_loss: 0.5093\n",
      "Epoch 16/20\n",
      "500/500 [==============================] - 11s 21ms/step - loss: 0.2047 - val_loss: 0.1913\n",
      "Epoch 17/20\n",
      "500/500 [==============================] - 10s 21ms/step - loss: 0.2025 - val_loss: 0.3935\n",
      "Epoch 18/20\n",
      "500/500 [==============================] - 11s 21ms/step - loss: 0.2011 - val_loss: 0.3140\n",
      "Epoch 19/20\n",
      "500/500 [==============================] - 10s 21ms/step - loss: 0.2001 - val_loss: 0.2271\n",
      "Epoch 20/20\n",
      "500/500 [==============================] - 10s 21ms/step - loss: 0.1986 - val_loss: 0.4894\n"
     ]
    }
   ],
   "source": [
    "model.compile(optimizer=RMSprop(), loss='mae')\n",
    "history = model.fit_generator(train_gen, steps_per_epoch=500, epochs=20, \n",
    "                              validation_data=val_gen, validation_steps=val_steps)"
   ]
  },
  {
   "cell_type": "code",
   "execution_count": 91,
   "metadata": {},
   "outputs": [
    {
     "data": {
      "image/png": "[encoded data removed]",
      "text/plain": [
       "<Figure size 432x288 with 1 Axes>"
      ]
     },
     "metadata": {
      "needs_background": "light"
     },
     "output_type": "display_data"
    }
   ],
   "source": [
    "output_plots_mae(history)"
   ]
  },
  {
   "cell_type": "markdown",
   "metadata": {},
   "source": [
    "So, it's basically the same - or worse - than the no-ML baseline. The book does a good job of explaining this: \n",
    "\n",
    "\"Some of the validation losses are close to the no-learning baseline, but not reliably.\n",
    "This goes to show the merit of having this baseline in the first place: it turns out to be\n",
    "not easy to outperform. Your common sense contains a lot of valuable information\n",
    "that a machine-learning model doesn’t have access to.\n",
    "\n",
    "You may wonder, if a simple, well-performing model exists to go from the data to\n",
    "the targets (the common-sense baseline), why doesn’t the model you’re training find it\n",
    "and improve on it? Because this simple solution isn’t what your training setup is looking\n",
    "for. The space of models in which you’re searching for a solution—that is, your\n",
    "hypothesis space—is the space of all possible two-layer networks with the configuration\n",
    "you defined. These networks are already fairly complicated. When you’re looking for a\n",
    "solution with a space of complicated models, the simple, well-performing baseline may\n",
    "be unlearnable, even if it’s technically part of the hypothesis space. That is a pretty significant\n",
    "limitation of machine learning in general: unless the learning algorithm is\n",
    "hardcoded to look for a specific kind of simple model, parameter learning can sometimes\n",
    "fail to find a simple solution to a simple problem.\" "
   ]
  },
  {
   "cell_type": "markdown",
   "metadata": {},
   "source": [
    "## And then try a first recurrent model"
   ]
  },
  {
   "cell_type": "markdown",
   "metadata": {},
   "source": [
    "The model above flattened the time series data, so we lost all sequence... given that with what we have, sequence and order matter, a flat/Dense model wouldn't be expected to work. Let's try a recurrent model... one that takes each timestep in sequence and learns from previous timesteps to work with future timesteps.\n",
    "\n",
    "This examples uses a GRU - \"gated recurrent unit\" because, according to the book, they work w/ the same principal as LSTM models, but are streamlined and cheaper to run. Like most places in ML, they give up some of what they can represent for this efficiency."
   ]
  },
  {
   "cell_type": "code",
   "execution_count": 92,
   "metadata": {},
   "outputs": [
    {
     "name": "stdout",
     "output_type": "stream",
     "text": [
      "Model: \"sequential_4\"\n",
      "_________________________________________________________________\n",
      "Layer (type)                 Output Shape              Param #   \n",
      "=================================================================\n",
      "gru_1 (GRU)                  (None, 32)                4512      \n",
      "_________________________________________________________________\n",
      "dense_7 (Dense)              (None, 1)                 33        \n",
      "=================================================================\n",
      "Total params: 4,545\n",
      "Trainable params: 4,545\n",
      "Non-trainable params: 0\n",
      "_________________________________________________________________\n"
     ]
    }
   ],
   "source": [
    "model = Sequential()\n",
    "model.add(layers.GRU(32, input_shape=(None, float_data.shape[-1])))\n",
    "model.add(layers.Dense(1))\n",
    "model.summary()"
   ]
  },
  {
   "cell_type": "code",
   "execution_count": null,
   "metadata": {},
   "outputs": [
    {
     "name": "stdout",
     "output_type": "stream",
     "text": [
      "Epoch 1/20\n",
      "500/500 [==============================] - 143s 286ms/step - loss: 0.2973 - val_loss: 0.3394\n",
      "Epoch 2/20\n",
      "500/500 [==============================] - 142s 283ms/step - loss: 0.2842 - val_loss: 0.3064\n",
      "Epoch 3/20\n",
      "500/500 [==============================] - 143s 287ms/step - loss: 0.2777 - val_loss: 0.3157\n",
      "Epoch 4/20\n",
      "500/500 [==============================] - 141s 282ms/step - loss: 0.2732 - val_loss: 0.3148\n",
      "Epoch 5/20\n",
      "500/500 [==============================] - 142s 283ms/step - loss: 0.2690 - val_loss: 0.4133\n",
      "Epoch 6/20\n",
      "500/500 [==============================] - 142s 284ms/step - loss: 0.2637 - val_loss: 0.4345\n",
      "Epoch 7/20\n",
      "500/500 [==============================] - 142s 285ms/step - loss: 0.2592 - val_loss: 0.4993\n",
      "Epoch 8/20\n",
      "499/500 [============================>.] - ETA: 0s - loss: 0.2555"
     ]
    }
   ],
   "source": [
    "model.compile(optimizer=RMSprop(), loss='mae')\n",
    "history = model.fit_generator(train_gen, steps_per_epoch=500, epochs=20,\n",
    "                              validation_data=val_gen, validation_steps=val_steps)"
   ]
  },
  {
   "cell_type": "code",
   "execution_count": null,
   "metadata": {},
   "outputs": [],
   "source": [
    "output_plots_mae(history)"
   ]
  },
  {
   "cell_type": "markdown",
   "metadata": {},
   "source": [
    "TBD comment"
   ]
  },
  {
   "cell_type": "markdown",
   "metadata": {},
   "source": [
    "## Adding in regularization"
   ]
  },
  {
   "cell_type": "markdown",
   "metadata": {},
   "source": [
    "TBD comment relating above to why here"
   ]
  },
  {
   "cell_type": "code",
   "execution_count": null,
   "metadata": {},
   "outputs": [],
   "source": [
    "model = Sequential()\n",
    "model.add(layers.GRU(32, dropout=0.2, recurrent_dropout=0.2, input_shape=(None, float_data.shape[-1])))\n",
    "model.add(layers.Dense(1))\n",
    "model.summary()"
   ]
  },
  {
   "cell_type": "markdown",
   "metadata": {},
   "source": [
    "The book says \"networks being regularized with dropout take longer to converge\" so here we train the network for 40 epochs instead of 20."
   ]
  },
  {
   "cell_type": "code",
   "execution_count": null,
   "metadata": {},
   "outputs": [],
   "source": [
    "model.compile(optimizer=RMSprop(), loss='mae')\n",
    "history = model.fit_generator(train_gen, steps_per_epoch=500, epochs=40, \n",
    "                              validation_data=val_gen, validation_steps=val_steps)"
   ]
  },
  {
   "cell_type": "code",
   "execution_count": null,
   "metadata": {},
   "outputs": [],
   "source": [
    "output_plots_mae(history)"
   ]
  },
  {
   "cell_type": "markdown",
   "metadata": {},
   "source": [
    "TBD comment"
   ]
  },
  {
   "cell_type": "markdown",
   "metadata": {},
   "source": [
    "## Stacking recurrent layers"
   ]
  },
  {
   "cell_type": "markdown",
   "metadata": {},
   "source": [
    "TBD comment"
   ]
  },
  {
   "cell_type": "code",
   "execution_count": null,
   "metadata": {},
   "outputs": [],
   "source": [
    "model = Sequential()\n",
    "model.add(layers.GRU(32, dropout=0.1, recurrent_dropout=0.5, return_sequences=True, input_shape=(None, float_data.shape[-1])))\n",
    "model.add(layers.GRU(64, activation='relu', dropout=0.1, recurrent_dropout=0.5))\n",
    "model.add(layers.Dense(1))\n",
    "model.summary()"
   ]
  },
  {
   "cell_type": "code",
   "execution_count": null,
   "metadata": {},
   "outputs": [],
   "source": [
    "model.compile(optimizer=RMSprop(), loss='mae')\n",
    "history = model.fit_generator(train_gen, steps_per_epoch=500, epochs=40, \n",
    "                              validation_data=val_gen, validation_steps=val_steps)"
   ]
  },
  {
   "cell_type": "code",
   "execution_count": null,
   "metadata": {},
   "outputs": [],
   "source": [
    "output_plots_mae(history)"
   ]
  },
  {
   "cell_type": "markdown",
   "metadata": {},
   "source": [
    "TBD comment"
   ]
  },
  {
   "cell_type": "code",
   "execution_count": null,
   "metadata": {},
   "outputs": [],
   "source": []
  }
 ],
 "metadata": {
  "kernelspec": {
   "display_name": "Python 3",
   "language": "python",
   "name": "python3"
  },
  "language_info": {
   "codemirror_mode": {
    "name": "ipython",
    "version": 3
   },
   "file_extension": ".py",
   "mimetype": "text/x-python",
   "name": "python",
   "nbconvert_exporter": "python",
   "pygments_lexer": "ipython3",
   "version": "3.7.6"
  }
 },
 "nbformat": 4,
 "nbformat_minor": 4
}
