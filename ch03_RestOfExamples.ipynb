{
 "cells": [
  {
   "cell_type": "code",
   "execution_count": 16,
   "metadata": {},
   "outputs": [],
   "source": [
    "import numpy as np\n",
    "\n",
    "from keras.datasets import reuters\n",
    "from keras import models\n",
    "from keras import layers\n",
    "from keras import optimizers\n",
    "from keras import losses\n",
    "from keras import metrics\n",
    "import keras\n",
    "\n",
    "import matplotlib.pyplot as plt"
   ]
  },
  {
   "cell_type": "code",
   "execution_count": 17,
   "metadata": {},
   "outputs": [],
   "source": [
    "# to avoid a cuBLAS error, per https://stackoverflow.com/questions/43990046/tensorflow-blas-gemm-launch-failed\n",
    "import tensorflow as tf\n",
    "physical_devices = tf.config.list_physical_devices('GPU') \n",
    "tf.config.experimental.set_memory_growth(physical_devices[0], True)"
   ]
  },
  {
   "cell_type": "markdown",
   "metadata": {},
   "source": [
    "# Reuters - multi-classification (45 classes, one per each article)"
   ]
  },
  {
   "cell_type": "code",
   "execution_count": 23,
   "metadata": {},
   "outputs": [
    {
     "data": {
      "text/plain": [
       "((8982,), (8982,), (2246,), (2246,))"
      ]
     },
     "execution_count": 23,
     "metadata": {},
     "output_type": "execute_result"
    }
   ],
   "source": [
    "(train_data, train_labels), (test_data, test_labels) = reuters.load_data(num_words=10000)\n",
    "train_data.shape, train_labels.shape, test_data.shape, test_labels.shape"
   ]
  },
  {
   "cell_type": "code",
   "execution_count": 24,
   "metadata": {},
   "outputs": [
    {
     "data": {
      "text/plain": [
       "31"
      ]
     },
     "execution_count": 24,
     "metadata": {},
     "output_type": "execute_result"
    }
   ],
   "source": [
    "len(train_data[10])"
   ]
  },
  {
   "cell_type": "code",
   "execution_count": 5,
   "metadata": {},
   "outputs": [
    {
     "data": {
      "text/plain": [
       "[1, 245, 273, 207, 156, 53, 74, 160, 26, 14]"
      ]
     },
     "execution_count": 5,
     "metadata": {},
     "output_type": "execute_result"
    }
   ],
   "source": [
    "train_data[10][:10]"
   ]
  },
  {
   "cell_type": "code",
   "execution_count": 6,
   "metadata": {},
   "outputs": [
    {
     "data": {
      "text/plain": [
       "'? ? ? said as a result of its december acquisition of space co it expects earnings per share in 1987 of 1 15 to 1 30 dlrs per share up from 70 cts in 1986 the company said pretax net should rise to nine to 10 mln dlrs from six mln dlrs in 1986 and rental operation revenues to 19 to 22 mln dlrs from 12 5 mln dlrs it said cash flow per share this year should be 2 50 to three dlrs reuter 3'"
      ]
     },
     "execution_count": 6,
     "metadata": {},
     "output_type": "execute_result"
    }
   ],
   "source": [
    "word_index = reuters.get_word_index()\n",
    "reverse_word_index = dict([(value, key) for (key, value) in word_index.items()])\n",
    "decoded_newswire = ' '.join([reverse_word_index.get(i - 3, '?') for i in train_data[0]])\n",
    "decoded_newswire"
   ]
  },
  {
   "cell_type": "code",
   "execution_count": 25,
   "metadata": {},
   "outputs": [],
   "source": [
    "def vectorize_sequences(sequences, dimension=10000):\n",
    "    results = np.zeros((len(sequences), dimension))\n",
    "    for i, sequence in enumerate(sequences):\n",
    "        results[i, sequence] = 1.\n",
    "    return results"
   ]
  },
  {
   "cell_type": "code",
   "execution_count": 26,
   "metadata": {},
   "outputs": [
    {
     "data": {
      "text/plain": [
       "((8982, 10000), (2246, 10000))"
      ]
     },
     "execution_count": 26,
     "metadata": {},
     "output_type": "execute_result"
    }
   ],
   "source": [
    "x_train = vectorize_sequences(train_data)\n",
    "x_test = vectorize_sequences(test_data)\n",
    "\n",
    "x_train.shape, x_test.shape"
   ]
  },
  {
   "cell_type": "code",
   "execution_count": 27,
   "metadata": {},
   "outputs": [
    {
     "data": {
      "text/plain": [
       "array([0., 1., 0., ..., 0., 0., 0.])"
      ]
     },
     "execution_count": 27,
     "metadata": {},
     "output_type": "execute_result"
    }
   ],
   "source": [
    "x_train[10]"
   ]
  },
  {
   "cell_type": "code",
   "execution_count": 28,
   "metadata": {},
   "outputs": [
    {
     "data": {
      "text/plain": [
       "3"
      ]
     },
     "execution_count": 28,
     "metadata": {},
     "output_type": "execute_result"
    }
   ],
   "source": [
    "train_labels[10]"
   ]
  },
  {
   "cell_type": "code",
   "execution_count": 29,
   "metadata": {},
   "outputs": [
    {
     "data": {
      "text/plain": [
       "array([ 0,  1,  2,  3,  4,  5,  6,  7,  8,  9, 10, 11, 12, 13, 14, 15, 16,\n",
       "       17, 18, 19, 20, 21, 22, 23, 24, 25, 26, 27, 28, 29, 30, 31, 32, 33,\n",
       "       34, 35, 36, 37, 38, 39, 40, 41, 42, 43, 44, 45], dtype=int64)"
      ]
     },
     "execution_count": 29,
     "metadata": {},
     "output_type": "execute_result"
    }
   ],
   "source": [
    "np.unique(train_labels)"
   ]
  },
  {
   "cell_type": "code",
   "execution_count": 30,
   "metadata": {},
   "outputs": [
    {
     "data": {
      "text/plain": [
       "((8982, 46), (2246, 46))"
      ]
     },
     "execution_count": 30,
     "metadata": {},
     "output_type": "execute_result"
    }
   ],
   "source": [
    "one_hot_train_labels = keras.utils.np_utils.to_categorical(train_labels)\n",
    "one_hot_test_labels = keras.utils.np_utils.to_categorical(test_labels)\n",
    "\n",
    "one_hot_train_labels.shape, one_hot_test_labels.shape"
   ]
  },
  {
   "cell_type": "code",
   "execution_count": 31,
   "metadata": {},
   "outputs": [
    {
     "data": {
      "text/plain": [
       "array([0., 0., 0., 1., 0., 0., 0., 0., 0., 0., 0., 0., 0., 0., 0., 0., 0.,\n",
       "       0., 0., 0., 0., 0., 0., 0., 0., 0., 0., 0., 0., 0., 0., 0., 0., 0.,\n",
       "       0., 0., 0., 0., 0., 0., 0., 0., 0., 0., 0., 0.], dtype=float32)"
      ]
     },
     "execution_count": 31,
     "metadata": {},
     "output_type": "execute_result"
    }
   ],
   "source": [
    "one_hot_train_labels[10]"
   ]
  },
  {
   "cell_type": "markdown",
   "metadata": {},
   "source": [
    "We have 45 possible outputs now, so we don't want to use the same 16-dimensional layers we used for a binary classification problem, because crushing data down into that many representations could leave us not enough info when we want to make the final prediction. Instead, we'll use 64-D layers. "
   ]
  },
  {
   "cell_type": "code",
   "execution_count": 32,
   "metadata": {},
   "outputs": [],
   "source": [
    "model = models.Sequential()\n",
    "model.add(layers.Dense(64, activation='relu', input_shape=(10000,)))\n",
    "model.add(layers.Dense(64, activation='relu'))\n",
    "model.add(layers.Dense(46, activation='softmax'))"
   ]
  },
  {
   "cell_type": "markdown",
   "metadata": {},
   "source": [
    "\"The last layer uses a softmax activation. You saw this pattern in the MNIST\n",
    "example. It means the network will output a probability distribution over the 46\n",
    "different output classes—for every input sample, the network will produce a 46-\n",
    "dimensional output vector, where output[i] is the probability that the sample\n",
    "belongs to class i. The 46 scores will sum to 1.\"\n",
    "\n",
    "\"The best loss function to use in this case is categorical_crossentropy. It measures\n",
    "the distance between two probability distributions: here, between the probability distribution\n",
    "output by the network and the true distribution of the labels. By minimizing\n",
    "the distance between these two distributions, you train the network to output something\n",
    "as close as possible to the true labels.\"\n",
    "\n",
    "And then later in the chapter there's a bit of code that tries with the second layer being only 4-D instead of 64, and says \"The network now peaks at ~71% validation accuracy, an 8% absolute drop. This drop\n",
    "is mostly due to the fact that you’re trying to compress a lot of information (enough\n",
    "information to recover the separation hyperplanes of 46 classes) into an intermediate\n",
    "space that is too low-dimensional. The network is able to cram most of the necessary\n",
    "information into these four-dimensional representations, but not all of it.\""
   ]
  },
  {
   "cell_type": "code",
   "execution_count": 33,
   "metadata": {},
   "outputs": [],
   "source": [
    "model.compile(optimizer='rmsprop', loss='categorical_crossentropy', metrics=['accuracy'])"
   ]
  },
  {
   "cell_type": "code",
   "execution_count": 34,
   "metadata": {},
   "outputs": [],
   "source": [
    "x_val = x_train[:1000]\n",
    "partial_x_train = x_train[1000:]\n",
    "\n",
    "y_val = one_hot_train_labels[:1000]\n",
    "partial_y_train = one_hot_train_labels[1000:]"
   ]
  },
  {
   "cell_type": "code",
   "execution_count": 35,
   "metadata": {},
   "outputs": [
    {
     "name": "stdout",
     "output_type": "stream",
     "text": [
      "Train on 7982 samples, validate on 1000 samples\n",
      "Epoch 1/20\n",
      "7982/7982 [==============================] - 1s 87us/step - loss: 2.5642 - accuracy: 0.5459 - val_loss: 1.6784 - val_accuracy: 0.6580\n",
      "Epoch 2/20\n",
      "7982/7982 [==============================] - 0s 61us/step - loss: 1.3816 - accuracy: 0.7131 - val_loss: 1.2809 - val_accuracy: 0.7130\n",
      "Epoch 3/20\n",
      "7982/7982 [==============================] - 0s 61us/step - loss: 1.0287 - accuracy: 0.7785 - val_loss: 1.1359 - val_accuracy: 0.7430\n",
      "Epoch 4/20\n",
      "7982/7982 [==============================] - 0s 61us/step - loss: 0.8073 - accuracy: 0.8306 - val_loss: 1.0183 - val_accuracy: 0.7800\n",
      "Epoch 5/20\n",
      "7982/7982 [==============================] - 0s 61us/step - loss: 0.6446 - accuracy: 0.8675 - val_loss: 0.9661 - val_accuracy: 0.7940\n",
      "Epoch 6/20\n",
      "7982/7982 [==============================] - 0s 60us/step - loss: 0.5139 - accuracy: 0.8935 - val_loss: 0.9377 - val_accuracy: 0.8060\n",
      "Epoch 7/20\n",
      "7982/7982 [==============================] - 0s 60us/step - loss: 0.4177 - accuracy: 0.9126 - val_loss: 0.9386 - val_accuracy: 0.8070\n",
      "Epoch 8/20\n",
      "7982/7982 [==============================] - 0s 62us/step - loss: 0.3417 - accuracy: 0.9290 - val_loss: 0.8979 - val_accuracy: 0.8070\n",
      "Epoch 9/20\n",
      "7982/7982 [==============================] - 0s 61us/step - loss: 0.2861 - accuracy: 0.9361 - val_loss: 0.9134 - val_accuracy: 0.8100\n",
      "Epoch 10/20\n",
      "7982/7982 [==============================] - 0s 61us/step - loss: 0.2445 - accuracy: 0.9421 - val_loss: 0.9007 - val_accuracy: 0.8110\n",
      "Epoch 11/20\n",
      "7982/7982 [==============================] - 0s 61us/step - loss: 0.2071 - accuracy: 0.9501 - val_loss: 0.9317 - val_accuracy: 0.8040\n",
      "Epoch 12/20\n",
      "7982/7982 [==============================] - 0s 61us/step - loss: 0.1822 - accuracy: 0.9526 - val_loss: 0.9708 - val_accuracy: 0.8030\n",
      "Epoch 13/20\n",
      "7982/7982 [==============================] - 0s 61us/step - loss: 0.1662 - accuracy: 0.9519 - val_loss: 0.9525 - val_accuracy: 0.8110\n",
      "Epoch 14/20\n",
      "7982/7982 [==============================] - 0s 61us/step - loss: 0.1478 - accuracy: 0.9559 - val_loss: 0.9708 - val_accuracy: 0.8130\n",
      "Epoch 15/20\n",
      "7982/7982 [==============================] - 1s 63us/step - loss: 0.1373 - accuracy: 0.9557 - val_loss: 1.0227 - val_accuracy: 0.8030\n",
      "Epoch 16/20\n",
      "7982/7982 [==============================] - 1s 64us/step - loss: 0.1351 - accuracy: 0.9549 - val_loss: 1.0540 - val_accuracy: 0.8000\n",
      "Epoch 17/20\n",
      "7982/7982 [==============================] - 1s 63us/step - loss: 0.1285 - accuracy: 0.9568 - val_loss: 1.0126 - val_accuracy: 0.8120\n",
      "Epoch 18/20\n",
      "7982/7982 [==============================] - 1s 64us/step - loss: 0.1202 - accuracy: 0.9582 - val_loss: 1.0409 - val_accuracy: 0.8080\n",
      "Epoch 19/20\n",
      "7982/7982 [==============================] - 1s 64us/step - loss: 0.1154 - accuracy: 0.9570 - val_loss: 1.1407 - val_accuracy: 0.7850\n",
      "Epoch 20/20\n",
      "7982/7982 [==============================] - 0s 63us/step - loss: 0.1118 - accuracy: 0.9609 - val_loss: 1.1115 - val_accuracy: 0.7950\n"
     ]
    }
   ],
   "source": [
    "history = model.fit(partial_x_train, partial_y_train, epochs=20, batch_size=512, validation_data=(x_val, y_val))"
   ]
  },
  {
   "cell_type": "code",
   "execution_count": 36,
   "metadata": {},
   "outputs": [
    {
     "data": {
      "text/plain": [
       "dict_keys(['val_loss', 'val_accuracy', 'loss', 'accuracy'])"
      ]
     },
     "execution_count": 36,
     "metadata": {},
     "output_type": "execute_result"
    }
   ],
   "source": [
    "history_dict = history.history\n",
    "history_dict.keys()"
   ]
  },
  {
   "cell_type": "code",
   "execution_count": 37,
   "metadata": {},
   "outputs": [
    {
     "data": {
      "text/plain": [
       "<matplotlib.legend.Legend at 0x1bcbb17de08>"
      ]
     },
     "execution_count": 37,
     "metadata": {},
     "output_type": "execute_result"
    },
    {
     "data": {
      "image/png": "[encoded data removed]",
      "text/plain": [
       "<Figure size 432x288 with 1 Axes>"
      ]
     },
     "metadata": {
      "needs_background": "light"
     },
     "output_type": "display_data"
    }
   ],
   "source": [
    "loss = history_dict['loss']\n",
    "val_loss = history_dict['val_loss']\n",
    "epochs = range(1, len(loss) + 1)\n",
    "plt.plot(epochs, loss, 'bo', label='Training loss')\n",
    "plt.plot(epochs, val_loss, 'b', label='Validation loss')\n",
    "plt.title('Training and validation loss')\n",
    "plt.xlabel('Epochs')\n",
    "plt.ylabel('Loss')\n",
    "plt.legend()"
   ]
  },
  {
   "cell_type": "code",
   "execution_count": 38,
   "metadata": {},
   "outputs": [
    {
     "data": {
      "text/plain": [
       "<matplotlib.legend.Legend at 0x1bcbac74a48>"
      ]
     },
     "execution_count": 38,
     "metadata": {},
     "output_type": "execute_result"
    },
    {
     "data": {
      "image/png": "[encoded data removed]",
      "text/plain": [
       "<Figure size 432x288 with 1 Axes>"
      ]
     },
     "metadata": {
      "needs_background": "light"
     },
     "output_type": "display_data"
    }
   ],
   "source": [
    "acc = history_dict['accuracy']\n",
    "val_acc = history_dict['val_accuracy']\n",
    "plt.plot(epochs, acc, 'bo', label='Training acc')\n",
    "plt.plot(epochs, val_acc, 'b', label='Validation acc')\n",
    "plt.title('Training and validation accuracy')\n",
    "plt.xlabel('Epochs')\n",
    "plt.ylabel('Accuracy')\n",
    "plt.legend()"
   ]
  },
  {
   "cell_type": "markdown",
   "metadata": {},
   "source": [
    "Since we overfit at about nine or so epochs, re-train w/ only that many."
   ]
  },
  {
   "cell_type": "code",
   "execution_count": 39,
   "metadata": {},
   "outputs": [
    {
     "name": "stdout",
     "output_type": "stream",
     "text": [
      "Train on 7982 samples, validate on 1000 samples\n",
      "Epoch 1/9\n",
      "7982/7982 [==============================] - 1s 65us/step - loss: 0.1077 - accuracy: 0.9583 - val_loss: 1.0863 - val_accuracy: 0.8040\n",
      "Epoch 2/9\n",
      "7982/7982 [==============================] - 0s 62us/step - loss: 0.1071 - accuracy: 0.9580 - val_loss: 1.1006 - val_accuracy: 0.8010\n",
      "Epoch 3/9\n",
      "7982/7982 [==============================] - 0s 61us/step - loss: 0.1035 - accuracy: 0.9599 - val_loss: 1.1376 - val_accuracy: 0.8020\n",
      "Epoch 4/9\n",
      "7982/7982 [==============================] - 0s 62us/step - loss: 0.1097 - accuracy: 0.9554 - val_loss: 1.0939 - val_accuracy: 0.8070\n",
      "Epoch 5/9\n",
      "7982/7982 [==============================] - 0s 61us/step - loss: 0.1017 - accuracy: 0.9592 - val_loss: 1.1741 - val_accuracy: 0.7900\n",
      "Epoch 6/9\n",
      "7982/7982 [==============================] - 0s 63us/step - loss: 0.0984 - accuracy: 0.9587 - val_loss: 1.1318 - val_accuracy: 0.8120\n",
      "Epoch 7/9\n",
      "7982/7982 [==============================] - 0s 61us/step - loss: 0.1042 - accuracy: 0.9565 - val_loss: 1.1521 - val_accuracy: 0.8050\n",
      "Epoch 8/9\n",
      "7982/7982 [==============================] - 0s 62us/step - loss: 0.0998 - accuracy: 0.9594 - val_loss: 1.1775 - val_accuracy: 0.7960\n",
      "Epoch 9/9\n",
      "7982/7982 [==============================] - ETA: 0s - loss: 0.0939 - accuracy: 0.95 - 0s 62us/step - loss: 0.0950 - accuracy: 0.9588 - val_loss: 1.2364 - val_accuracy: 0.7900\n",
      "2246/2246 [==============================] - 0s 122us/step\n"
     ]
    },
    {
     "data": {
      "text/plain": [
       "[1.4112228447055561, 0.784060537815094]"
      ]
     },
     "execution_count": 39,
     "metadata": {},
     "output_type": "execute_result"
    }
   ],
   "source": [
    "model.fit(partial_x_train, partial_y_train, epochs=9, batch_size=512, validation_data=(x_val, y_val))\n",
    "results = model.evaluate(x_test, one_hot_test_labels)\n",
    "results"
   ]
  },
  {
   "cell_type": "markdown",
   "metadata": {},
   "source": [
    "How is the 78% accuracy compared to just assigning a label at random? This is a multiclass classification problem, so we can't use the shortcut that in a binary classification problem w/ balanced output (labels are 50/50 true and false) we'd get 50% accuracy."
   ]
  },
  {
   "cell_type": "code",
   "execution_count": 40,
   "metadata": {},
   "outputs": [
    {
     "data": {
      "text/plain": [
       "0.17853962600178094"
      ]
     },
     "execution_count": 40,
     "metadata": {},
     "output_type": "execute_result"
    }
   ],
   "source": [
    "import copy\n",
    "test_labels_copy = copy.copy(test_labels)\n",
    "np.random.shuffle(test_labels_copy)\n",
    "hits_array = np.array(test_labels) == np.array(test_labels_copy)\n",
    "float(np.sum(hits_array)) / len(test_labels)"
   ]
  },
  {
   "cell_type": "markdown",
   "metadata": {},
   "source": [
    "So with this data we'd expect about a 18% accuracy if we output labels at random. 78% is decent compared to a baseline of 18%."
   ]
  },
  {
   "cell_type": "code",
   "execution_count": 41,
   "metadata": {},
   "outputs": [
    {
     "data": {
      "text/plain": [
       "(2246, 46)"
      ]
     },
     "execution_count": 41,
     "metadata": {},
     "output_type": "execute_result"
    }
   ],
   "source": [
    "predictions = model.predict(x_test)\n",
    "predictions.shape"
   ]
  },
  {
   "cell_type": "code",
   "execution_count": 42,
   "metadata": {},
   "outputs": [
    {
     "data": {
      "text/plain": [
       "(46,)"
      ]
     },
     "execution_count": 42,
     "metadata": {},
     "output_type": "execute_result"
    }
   ],
   "source": [
    "predictions[0].shape"
   ]
  },
  {
   "cell_type": "code",
   "execution_count": 43,
   "metadata": {},
   "outputs": [
    {
     "data": {
      "text/plain": [
       "array([3.63744363e-07, 8.78703474e-07, 4.56143425e-08, 9.59239602e-01,\n",
       "       3.61099653e-02, 4.35618048e-08, 1.02382054e-10, 1.17823731e-06,\n",
       "       6.68070337e-04, 6.52145218e-08, 7.34730975e-06, 1.59029674e-04,\n",
       "       3.73317016e-06, 2.45551678e-06, 1.99990652e-07, 1.98377231e-10,\n",
       "       1.65179488e-04, 2.21731185e-07, 5.40380654e-07, 2.24315270e-04,\n",
       "       3.31235072e-03, 3.13082114e-06, 1.86648364e-07, 6.03363958e-07,\n",
       "       3.04641787e-07, 5.89121107e-09, 3.17662494e-11, 2.36045317e-09,\n",
       "       4.58168142e-06, 2.68052304e-07, 3.18615821e-05, 1.67140798e-11,\n",
       "       2.44391401e-07, 7.88479670e-10, 5.11778069e-08, 1.59502314e-08,\n",
       "       6.28081107e-05, 5.89471849e-09, 1.01362509e-07, 3.82202181e-09,\n",
       "       9.67559632e-09, 3.90272561e-08, 1.45545457e-12, 8.36138980e-08,\n",
       "       3.04326390e-11, 2.57356203e-09], dtype=float32)"
      ]
     },
     "execution_count": 43,
     "metadata": {},
     "output_type": "execute_result"
    }
   ],
   "source": [
    "predictions[0]"
   ]
  },
  {
   "cell_type": "markdown",
   "metadata": {},
   "source": [
    "So we have the probability for each of the 46 classes, and all should sum to 1."
   ]
  },
  {
   "cell_type": "code",
   "execution_count": 45,
   "metadata": {},
   "outputs": [
    {
     "data": {
      "text/plain": [
       "0.9999999"
      ]
     },
     "execution_count": 45,
     "metadata": {},
     "output_type": "execute_result"
    }
   ],
   "source": [
    "np.sum(predictions[0])"
   ]
  },
  {
   "cell_type": "markdown",
   "metadata": {},
   "source": [
    "The index associated w/ the largest probability is the class we predict."
   ]
  },
  {
   "cell_type": "code",
   "execution_count": 46,
   "metadata": {},
   "outputs": [
    {
     "data": {
      "text/plain": [
       "3"
      ]
     },
     "execution_count": 46,
     "metadata": {},
     "output_type": "execute_result"
    }
   ],
   "source": [
    "np.argmax(predictions[0])"
   ]
  },
  {
   "cell_type": "markdown",
   "metadata": {},
   "source": [
    "# House prices - regression"
   ]
  },
  {
   "cell_type": "code",
   "execution_count": 18,
   "metadata": {},
   "outputs": [],
   "source": [
    "from keras.datasets import boston_housing"
   ]
  },
  {
   "cell_type": "code",
   "execution_count": 19,
   "metadata": {},
   "outputs": [
    {
     "data": {
      "text/plain": [
       "((404, 13), (404,), (102, 13), (102,))"
      ]
     },
     "execution_count": 19,
     "metadata": {},
     "output_type": "execute_result"
    }
   ],
   "source": [
    "(train_data, train_targets), (test_data, test_targets) = boston_housing.load_data()\n",
    "\n",
    "train_data.shape, train_targets.shape, test_data.shape, test_targets.shape"
   ]
  },
  {
   "cell_type": "code",
   "execution_count": 20,
   "metadata": {},
   "outputs": [
    {
     "data": {
      "text/plain": [
       "array([[1.23247e+00, 0.00000e+00, 8.14000e+00, 0.00000e+00, 5.38000e-01,\n",
       "        6.14200e+00, 9.17000e+01, 3.97690e+00, 4.00000e+00, 3.07000e+02,\n",
       "        2.10000e+01, 3.96900e+02, 1.87200e+01],\n",
       "       [2.17700e-02, 8.25000e+01, 2.03000e+00, 0.00000e+00, 4.15000e-01,\n",
       "        7.61000e+00, 1.57000e+01, 6.27000e+00, 2.00000e+00, 3.48000e+02,\n",
       "        1.47000e+01, 3.95380e+02, 3.11000e+00],\n",
       "       [4.89822e+00, 0.00000e+00, 1.81000e+01, 0.00000e+00, 6.31000e-01,\n",
       "        4.97000e+00, 1.00000e+02, 1.33250e+00, 2.40000e+01, 6.66000e+02,\n",
       "        2.02000e+01, 3.75520e+02, 3.26000e+00]])"
      ]
     },
     "execution_count": 20,
     "metadata": {},
     "output_type": "execute_result"
    }
   ],
   "source": [
    "train_data[:3]"
   ]
  },
  {
   "cell_type": "code",
   "execution_count": 21,
   "metadata": {},
   "outputs": [
    {
     "data": {
      "text/plain": [
       "array([15.2, 42.3, 50. ])"
      ]
     },
     "execution_count": 21,
     "metadata": {},
     "output_type": "execute_result"
    }
   ],
   "source": [
    "train_targets[:3]"
   ]
  },
  {
   "cell_type": "markdown",
   "metadata": {},
   "source": [
    "The 13 different features are on different scales - we want to normalize so they're all on the same scale. "
   ]
  },
  {
   "cell_type": "code",
   "execution_count": 22,
   "metadata": {},
   "outputs": [],
   "source": [
    "mean = train_data.mean(axis=0)\n",
    "train_data -= mean\n",
    "std = train_data.std(axis=0)\n",
    "train_data /= std\n",
    "\n",
    "test_data -= mean\n",
    "test_data /= std"
   ]
  },
  {
   "cell_type": "code",
   "execution_count": 23,
   "metadata": {},
   "outputs": [
    {
     "data": {
      "text/plain": [
       "13"
      ]
     },
     "execution_count": 23,
     "metadata": {},
     "output_type": "execute_result"
    }
   ],
   "source": [
    "train_data.shape[1]"
   ]
  },
  {
   "cell_type": "markdown",
   "metadata": {},
   "source": [
    "MAE is mean absolute error - the absolute value of the difference between the predictions and the targets. Since the targets are in 1000s, an MAE of 0.5 means the predictions are off - different from the actual - by $500 on average."
   ]
  },
  {
   "cell_type": "code",
   "execution_count": 24,
   "metadata": {},
   "outputs": [],
   "source": [
    "def build_model():\n",
    "    model = models.Sequential()\n",
    "    model.add(layers.Dense(64, activation='relu', input_shape=(train_data.shape[1],)))\n",
    "    model.add(layers.Dense(64, activation='relu'))\n",
    "    model.add(layers.Dense(1))\n",
    "    model.compile(optimizer='rmsprop', loss='mse', metrics=['mae'])\n",
    "    return model"
   ]
  },
  {
   "cell_type": "markdown",
   "metadata": {},
   "source": [
    "K-fold validation, manually."
   ]
  },
  {
   "cell_type": "code",
   "execution_count": 25,
   "metadata": {},
   "outputs": [
    {
     "data": {
      "text/plain": [
       "101"
      ]
     },
     "execution_count": 25,
     "metadata": {},
     "output_type": "execute_result"
    }
   ],
   "source": [
    "404 // 4"
   ]
  },
  {
   "cell_type": "code",
   "execution_count": 29,
   "metadata": {
    "scrolled": false
   },
   "outputs": [
    {
     "name": "stdout",
     "output_type": "stream",
     "text": [
      "processing fold #0\n",
      "processing fold #1\n",
      "processing fold #2\n",
      "processing fold #3\n"
     ]
    }
   ],
   "source": [
    "k = 4\n",
    "num_val_samples = len(train_data) // k  # integer division, dropping the remainder - so 404 / 4 = 101 as an int and not a float\n",
    "num_epochs = 100\n",
    "all_scores = []\n",
    "\n",
    "for i in range(k):\n",
    "    print(f'processing fold #{i}')\n",
    "    val_data = train_data[i * num_val_samples: (i + 1) * num_val_samples]\n",
    "    val_targets = train_targets[i * num_val_samples: (i + 1) * num_val_samples]\n",
    "    \n",
    "    partial_train_data = np.concatenate([train_data[:i * num_val_samples], train_data[(i + 1) * num_val_samples:]], axis = 0)\n",
    "    partial_train_targets = np.concatenate([train_targets[:i * num_val_samples], train_targets[(i + 1) * num_val_samples:]], axis = 0)\n",
    "    \n",
    "    model = build_model()\n",
    "    model.fit(partial_train_data, partial_train_targets, epochs=num_epochs, batch_size=1, verbose=0)\n",
    "    val_mse, val_mae = model.evaluate(val_data, val_targets, verbose=0)\n",
    "    all_scores.append(val_mae)"
   ]
  },
  {
   "cell_type": "code",
   "execution_count": 30,
   "metadata": {},
   "outputs": [
    {
     "data": {
      "text/plain": [
       "[2.047067880630493, 2.697765588760376, 2.716614007949829, 2.386223793029785]"
      ]
     },
     "execution_count": 30,
     "metadata": {},
     "output_type": "execute_result"
    }
   ],
   "source": [
    "all_scores"
   ]
  },
  {
   "cell_type": "code",
   "execution_count": 31,
   "metadata": {},
   "outputs": [
    {
     "data": {
      "text/plain": [
       "2.461917817592621"
      ]
     },
     "execution_count": 31,
     "metadata": {},
     "output_type": "execute_result"
    }
   ],
   "source": [
    "np.mean(all_scores)"
   ]
  },
  {
   "cell_type": "markdown",
   "metadata": {},
   "source": [
    "So, the amount we're off by ranges from $2014 to $2716. On average, we're off by $2500."
   ]
  },
  {
   "cell_type": "markdown",
   "metadata": {},
   "source": [
    "Try training w/ 500 epochs, and save the per-epoch validation score log each time, so we can afterwards compute the per-epoch MAE scores for all folds."
   ]
  },
  {
   "cell_type": "code",
   "execution_count": 37,
   "metadata": {},
   "outputs": [
    {
     "name": "stdout",
     "output_type": "stream",
     "text": [
      "processing fold #0\n",
      "processing fold #1\n",
      "processing fold #2\n",
      "processing fold #3\n"
     ]
    }
   ],
   "source": [
    "num_epochs = 500\n",
    "all_mae_histories = []\n",
    "\n",
    "for i in range(k):\n",
    "    print(f'processing fold #{i}')\n",
    "    val_data = train_data[i * num_val_samples: (i + 1) * num_val_samples]\n",
    "    val_targets = train_targets[i * num_val_samples: (i + 1) * num_val_samples]\n",
    "    \n",
    "    partial_train_data = np.concatenate([train_data[:i * num_val_samples], train_data[(i + 1) * num_val_samples:]], axis = 0)\n",
    "    partial_train_targets = np.concatenate([train_targets[:i * num_val_samples], train_targets[(i + 1) * num_val_samples:]], axis = 0)\n",
    "    \n",
    "    model = build_model()\n",
    "    history = model.fit(partial_train_data, partial_train_targets, \n",
    "                        validation_data=(val_data, val_targets),\n",
    "                        epochs=num_epochs, batch_size=1, verbose=0)\n",
    "    mae_history = history.history['val_mae']\n",
    "    all_mae_histories.append(mae_history)"
   ]
  },
  {
   "cell_type": "markdown",
   "metadata": {},
   "source": [
    "Calc the MAE per epoch, using data from each of the four folds - i.e., each time we take the avg of four values, one from each fold."
   ]
  },
  {
   "cell_type": "code",
   "execution_count": 39,
   "metadata": {},
   "outputs": [
    {
     "data": {
      "text/plain": [
       "[4.692938327789307,\n",
       " 3.4186081886291504,\n",
       " 2.990828216075897,\n",
       " 2.728807270526886,\n",
       " 2.693298876285553,\n",
       " 2.6728198528289795,\n",
       " 2.755679190158844,\n",
       " 2.652045488357544,\n",
       " 2.4960122406482697,\n",
       " 2.52271831035614,\n",
       " 2.5134387612342834,\n",
       " 2.595883846282959,\n",
       " 2.6407458186149597,\n",
       " 2.5344961881637573,\n",
       " 2.439022332429886,\n",
       " 2.4497699439525604,\n",
       " 2.4246319234371185,\n",
       " 2.4648848176002502,\n",
       " 2.440561443567276,\n",
       " 2.5062309205532074,\n",
       " 2.340407282114029,\n",
       " 2.320247083902359,\n",
       " 2.3708947002887726,\n",
       " 2.54998379945755,\n",
       " 2.500167429447174,\n",
       " 2.439067006111145,\n",
       " 2.3729367554187775,\n",
       " 2.44175723195076,\n",
       " 2.359359323978424,\n",
       " 2.4594337344169617,\n",
       " 2.44543993473053,\n",
       " 2.4838287830352783,\n",
       " 2.376785159111023,\n",
       " 2.3640352487564087,\n",
       " 2.4029852151870728,\n",
       " 2.2965541183948517,\n",
       " 2.4975041151046753,\n",
       " 2.502075672149658,\n",
       " 2.3067327737808228,\n",
       " 2.2950820922851562,\n",
       " 2.247885584831238,\n",
       " 2.4792044162750244,\n",
       " 2.296993851661682,\n",
       " 2.608494281768799,\n",
       " 2.3648293018341064,\n",
       " 2.3073626458644867,\n",
       " 2.414969325065613,\n",
       " 2.2403628826141357,\n",
       " 2.4157434701919556,\n",
       " 2.4133681654930115,\n",
       " 2.271478623151779,\n",
       " 2.4075950980186462,\n",
       " 2.296135514974594,\n",
       " 2.2524774372577667,\n",
       " 2.2466554045677185,\n",
       " 2.3730250000953674,\n",
       " 2.365660607814789,\n",
       " 2.3839023113250732,\n",
       " 2.343097507953644,\n",
       " 2.3404053449630737,\n",
       " 2.389317035675049,\n",
       " 2.4229872822761536,\n",
       " 2.4090573489665985,\n",
       " 2.380644530057907,\n",
       " 2.3454315662384033,\n",
       " 2.502705216407776,\n",
       " 2.4917364716529846,\n",
       " 2.4485982060432434,\n",
       " 2.5400620698928833,\n",
       " 2.372248262166977,\n",
       " 2.3754140436649323,\n",
       " 2.3990436494350433,\n",
       " 2.4113439321517944,\n",
       " 2.3501245379447937,\n",
       " 2.383869230747223,\n",
       " 2.4980294704437256,\n",
       " 2.426341414451599,\n",
       " 2.3645381927490234,\n",
       " 2.350466310977936,\n",
       " 2.339588224887848,\n",
       " 2.4712687134742737,\n",
       " 2.5130304098129272,\n",
       " 2.448802351951599,\n",
       " 2.4492653608322144,\n",
       " 2.367209315299988,\n",
       " 2.417631447315216,\n",
       " 2.5269053280353546,\n",
       " 2.482638865709305,\n",
       " 2.380262643098831,\n",
       " 2.3738651871681213,\n",
       " 2.3697530031204224,\n",
       " 2.4313347935676575,\n",
       " 2.451419413089752,\n",
       " 2.4390505850315094,\n",
       " 2.377757489681244,\n",
       " 2.4230751991271973,\n",
       " 2.430302917957306,\n",
       " 2.736854910850525,\n",
       " 2.5443747639656067,\n",
       " 2.538078546524048,\n",
       " 2.4882737398147583,\n",
       " 2.399474024772644,\n",
       " 2.486860990524292,\n",
       " 2.4188190698623657,\n",
       " 2.400676965713501,\n",
       " 2.4812501668930054,\n",
       " 2.422195076942444,\n",
       " 2.414559453725815,\n",
       " 2.513796865940094,\n",
       " 2.4425582885742188,\n",
       " 2.4565259218215942,\n",
       " 2.452020287513733,\n",
       " 2.5374056100845337,\n",
       " 2.4144898653030396,\n",
       " 2.637694478034973,\n",
       " 2.4864428639411926,\n",
       " 2.4534789323806763,\n",
       " 2.5036289393901825,\n",
       " 2.451084613800049,\n",
       " 2.4633355140686035,\n",
       " 2.6021294593811035,\n",
       " 2.515119969844818,\n",
       " 2.4933507442474365,\n",
       " 2.612675964832306,\n",
       " 2.5985023975372314,\n",
       " 2.5482651591300964,\n",
       " 2.43222177028656,\n",
       " 2.398076742887497,\n",
       " 2.4451803863048553,\n",
       " 2.6516119241714478,\n",
       " 2.4622512459754944,\n",
       " 2.597303569316864,\n",
       " 2.499329090118408,\n",
       " 2.518476188182831,\n",
       " 2.475281596183777,\n",
       " 2.566361904144287,\n",
       " 2.5727906823158264,\n",
       " 2.6324621438980103,\n",
       " 2.6086857318878174,\n",
       " 2.6134610176086426,\n",
       " 2.475399076938629,\n",
       " 2.500561535358429,\n",
       " 2.5412042140960693,\n",
       " 2.594306528568268,\n",
       " 2.539058208465576,\n",
       " 2.514715015888214,\n",
       " 2.5084264278411865,\n",
       " 2.490095794200897,\n",
       " 2.478325843811035,\n",
       " 2.6401719450950623,\n",
       " 2.5349738001823425,\n",
       " 2.430482029914856,\n",
       " 2.5260149538517,\n",
       " 2.6493197083473206,\n",
       " 2.572801649570465,\n",
       " 2.526235520839691,\n",
       " 2.462686598300934,\n",
       " 2.5900176763534546,\n",
       " 2.5579734444618225,\n",
       " 2.582432508468628,\n",
       " 2.6221402287483215,\n",
       " 2.4901328682899475,\n",
       " 2.5950368642807007,\n",
       " 2.5272955894470215,\n",
       " 2.544302999973297,\n",
       " 2.5939254760742188,\n",
       " 2.4755682945251465,\n",
       " 2.603495955467224,\n",
       " 2.4625997245311737,\n",
       " 2.6361083388328552,\n",
       " 2.490583598613739,\n",
       " 2.549630582332611,\n",
       " 2.581554114818573,\n",
       " 2.4770708084106445,\n",
       " 2.5794439911842346,\n",
       " 2.5555705428123474,\n",
       " 2.4411381483078003,\n",
       " 2.4783790707588196,\n",
       " 2.603982448577881,\n",
       " 2.517934501171112,\n",
       " 2.584844648838043,\n",
       " 2.607273042201996,\n",
       " 2.5823659896850586,\n",
       " 2.559270203113556,\n",
       " 2.484063982963562,\n",
       " 2.4764642119407654,\n",
       " 2.5607293844223022,\n",
       " 2.5790172815322876,\n",
       " 2.5914987325668335,\n",
       " 2.650421142578125,\n",
       " 2.5167405009269714,\n",
       " 2.524915874004364,\n",
       " 2.5442985892295837,\n",
       " 2.4239581823349,\n",
       " 2.6195340752601624,\n",
       " 2.6198821663856506,\n",
       " 2.5366883277893066,\n",
       " 2.533999800682068,\n",
       " 2.574724316596985,\n",
       " 2.613583207130432,\n",
       " 2.5709381103515625,\n",
       " 2.639300048351288,\n",
       " 2.5966251492500305,\n",
       " 2.6571006774902344,\n",
       " 2.5893422961235046,\n",
       " 2.6059387922286987,\n",
       " 2.5151256322860718,\n",
       " 2.594436526298523,\n",
       " 2.580103635787964,\n",
       " 2.58511745929718,\n",
       " 2.5312246084213257,\n",
       " 2.6087429523468018,\n",
       " 2.5221646428108215,\n",
       " 2.530242443084717,\n",
       " 2.6616809964179993,\n",
       " 2.632007420063019,\n",
       " 2.565062642097473,\n",
       " 2.5443952083587646,\n",
       " 2.5537160634994507,\n",
       " 2.6122623085975647,\n",
       " 2.553384304046631,\n",
       " 2.6226788759231567,\n",
       " 2.54885596036911,\n",
       " 2.501713275909424,\n",
       " 2.629377782344818,\n",
       " 2.6158334016799927,\n",
       " 2.617650270462036,\n",
       " 2.549288809299469,\n",
       " 2.546870768070221,\n",
       " 2.582953155040741,\n",
       " 2.4943757355213165,\n",
       " 2.526893734931946,\n",
       " 2.75283420085907,\n",
       " 2.5177255868911743,\n",
       " 2.5345219373703003,\n",
       " 2.6237407326698303,\n",
       " 2.7427066564559937,\n",
       " 2.556782901287079,\n",
       " 2.6127788424491882,\n",
       " 2.5441721081733704,\n",
       " 2.6674442291259766,\n",
       " 2.6125605702400208,\n",
       " 2.623805582523346,\n",
       " 2.5117366313934326,\n",
       " 2.539218783378601,\n",
       " 2.695623755455017,\n",
       " 2.530677080154419,\n",
       " 2.582321584224701,\n",
       " 2.581164598464966,\n",
       " 2.6391271352767944,\n",
       " 2.593104600906372,\n",
       " 2.543088138103485,\n",
       " 2.6187369227409363,\n",
       " 2.6620753407478333,\n",
       " 2.5464754700660706,\n",
       " 2.548320710659027,\n",
       " 2.4991437196731567,\n",
       " 2.485387444496155,\n",
       " 2.5743058919906616,\n",
       " 2.5915447473526,\n",
       " 2.52165150642395,\n",
       " 2.640033543109894,\n",
       " 2.6011592745780945,\n",
       " 2.670653223991394,\n",
       " 2.6556241512298584,\n",
       " 2.7456430196762085,\n",
       " 2.6443507075309753,\n",
       " 2.5852461457252502,\n",
       " 2.562250077724457,\n",
       " 2.5437437295913696,\n",
       " 2.6586970686912537,\n",
       " 2.6606204509735107,\n",
       " 2.5844130516052246,\n",
       " 2.582899570465088,\n",
       " 2.7311537861824036,\n",
       " 2.5041280388832092,\n",
       " 2.594472885131836,\n",
       " 2.605413794517517,\n",
       " 2.61424720287323,\n",
       " 2.5343304872512817,\n",
       " 2.625088095664978,\n",
       " 2.5917911529541016,\n",
       " 2.6584912538528442,\n",
       " 2.5680707693099976,\n",
       " 2.6038137674331665,\n",
       " 2.675714373588562,\n",
       " 2.6046231389045715,\n",
       " 2.5914318561553955,\n",
       " 2.703496038913727,\n",
       " 2.5895535945892334,\n",
       " 2.61196768283844,\n",
       " 2.628954827785492,\n",
       " 2.6802274584770203,\n",
       " 2.505015790462494,\n",
       " 2.6798555850982666,\n",
       " 2.6451624631881714,\n",
       " 2.607615351676941,\n",
       " 2.7174072265625,\n",
       " 2.714579463005066,\n",
       " 2.591208517551422,\n",
       " 2.712874710559845,\n",
       " 2.836758852005005,\n",
       " 2.697891056537628,\n",
       " 2.679033875465393,\n",
       " 2.617408812046051,\n",
       " 2.6022543907165527,\n",
       " 2.6374231576919556,\n",
       " 2.56434428691864,\n",
       " 2.5830302834510803,\n",
       " 2.6499133110046387,\n",
       " 2.638584017753601,\n",
       " 2.7455199360847473,\n",
       " 2.640636384487152,\n",
       " 2.6095993518829346,\n",
       " 2.6414905786514282,\n",
       " 2.6370753049850464,\n",
       " 2.62104469537735,\n",
       " 2.616499960422516,\n",
       " 2.6028913259506226,\n",
       " 2.6436673998832703,\n",
       " 2.6449459195137024,\n",
       " 2.689987897872925,\n",
       " 2.6771828532218933,\n",
       " 2.644284665584564,\n",
       " 2.6979185342788696,\n",
       " 2.6250730752944946,\n",
       " 2.6651368141174316,\n",
       " 2.7144198417663574,\n",
       " 2.704369068145752,\n",
       " 2.6509904861450195,\n",
       " 2.741135835647583,\n",
       " 2.650920808315277,\n",
       " 2.621279239654541,\n",
       " 2.6832525730133057,\n",
       " 2.6556124091148376,\n",
       " 2.7740150094032288,\n",
       " 2.6647624373435974,\n",
       " 2.631869673728943,\n",
       " 2.6410176753997803,\n",
       " 2.6884332299232483,\n",
       " 2.8124645948410034,\n",
       " 2.7720104455947876,\n",
       " 2.6643689274787903,\n",
       " 2.7924283742904663,\n",
       " 2.6966986060142517,\n",
       " 2.6323322653770447,\n",
       " 2.6868895888328552,\n",
       " 2.8461512327194214,\n",
       " 2.666909694671631,\n",
       " 2.716463029384613,\n",
       " 2.7637929916381836,\n",
       " 2.652391195297241,\n",
       " 2.687515914440155,\n",
       " 2.696185529232025,\n",
       " 2.6452231407165527,\n",
       " 2.6323249340057373,\n",
       " 2.6289308071136475,\n",
       " 2.6422696113586426,\n",
       " 2.6873589754104614,\n",
       " 2.677265763282776,\n",
       " 2.7822957038879395,\n",
       " 2.6178300976753235,\n",
       " 2.7361932396888733,\n",
       " 2.6851040720939636,\n",
       " 2.640266537666321,\n",
       " 2.67693293094635,\n",
       " 2.6412212252616882,\n",
       " 2.5899519324302673,\n",
       " 2.634774625301361,\n",
       " 2.629742443561554,\n",
       " 2.748382568359375,\n",
       " 2.6197046041488647,\n",
       " 2.6237117648124695,\n",
       " 2.6281800866127014,\n",
       " 2.6152185797691345,\n",
       " 2.6773852109909058,\n",
       " 2.6512500047683716,\n",
       " 2.7288800477981567,\n",
       " 2.6314308643341064,\n",
       " 2.6205211877822876,\n",
       " 2.62964004278183,\n",
       " 2.59669291973114,\n",
       " 2.7382331490516663,\n",
       " 2.6850034594535828,\n",
       " 2.6785601377487183,\n",
       " 2.6155421137809753,\n",
       " 2.6635048389434814,\n",
       " 2.642688512802124,\n",
       " 2.694649398326874,\n",
       " 2.667254328727722,\n",
       " 2.7905232906341553,\n",
       " 2.633315324783325,\n",
       " 2.701434314250946,\n",
       " 2.649366855621338,\n",
       " 2.7202423214912415,\n",
       " 2.671427011489868,\n",
       " 2.6818524599075317,\n",
       " 2.6822086572647095,\n",
       " 2.6851181983947754,\n",
       " 2.6389997005462646,\n",
       " 2.695574164390564,\n",
       " 2.6658849716186523,\n",
       " 2.70486319065094,\n",
       " 2.679444193840027,\n",
       " 2.6112418174743652,\n",
       " 2.7596956491470337,\n",
       " 2.6014599800109863,\n",
       " 2.6338992714881897,\n",
       " 2.622221827507019,\n",
       " 2.6541998386383057,\n",
       " 2.6382956504821777,\n",
       " 2.677187979221344,\n",
       " 2.7412811517715454,\n",
       " 2.6510289907455444,\n",
       " 2.746009051799774,\n",
       " 2.5753162503242493,\n",
       " 2.6368451714515686,\n",
       " 2.6488375663757324,\n",
       " 2.6382906436920166,\n",
       " 2.6675777435302734,\n",
       " 2.663526237010956,\n",
       " 2.6363117694854736,\n",
       " 2.730328917503357,\n",
       " 2.661236584186554,\n",
       " 2.607673406600952,\n",
       " 2.6630676984786987,\n",
       " 2.7604124546051025,\n",
       " 2.713417112827301,\n",
       " 2.6257583498954773,\n",
       " 2.6693954467773438,\n",
       " 2.7963398098945618,\n",
       " 2.6854329705238342,\n",
       " 2.652841329574585,\n",
       " 2.6469905972480774,\n",
       " 2.642158031463623,\n",
       " 2.7021366357803345,\n",
       " 2.650881826877594,\n",
       " 2.7141236662864685,\n",
       " 2.726291596889496,\n",
       " 2.619112014770508,\n",
       " 2.6654799580574036,\n",
       " 2.721999168395996,\n",
       " 2.8101847767829895,\n",
       " 2.6950461864471436,\n",
       " 2.6979212164878845,\n",
       " 2.6893741488456726,\n",
       " 2.5525800585746765,\n",
       " 2.67329865694046,\n",
       " 2.7930054664611816,\n",
       " 2.752380907535553,\n",
       " 2.718879997730255,\n",
       " 2.6979364156723022,\n",
       " 2.646734058856964,\n",
       " 2.748307228088379,\n",
       " 2.723991811275482,\n",
       " 2.6606513261795044,\n",
       " 2.655870258808136,\n",
       " 2.7882211208343506,\n",
       " 2.634782552719116,\n",
       " 2.7185981273651123,\n",
       " 2.699804961681366,\n",
       " 2.7727993726730347,\n",
       " 2.6629188656806946,\n",
       " 2.772453486919403,\n",
       " 2.763634145259857,\n",
       " 2.6278123259544373,\n",
       " 2.7526153922080994,\n",
       " 2.7296546697616577,\n",
       " 2.6764212250709534,\n",
       " 2.656197965145111,\n",
       " 2.706478238105774,\n",
       " 2.6678501963615417,\n",
       " 2.709501624107361,\n",
       " 2.7239880561828613,\n",
       " 2.742699921131134,\n",
       " 2.6470563411712646,\n",
       " 2.6872854828834534,\n",
       " 2.781301498413086,\n",
       " 2.708540201187134,\n",
       " 2.6803067326545715,\n",
       " 2.625165343284607,\n",
       " 2.718468964099884,\n",
       " 2.744210362434387,\n",
       " 2.807492434978485,\n",
       " 2.747823476791382,\n",
       " 2.724754750728607,\n",
       " 2.6896910667419434,\n",
       " 2.7407385110855103,\n",
       " 2.6858834624290466,\n",
       " 2.7113084197044373,\n",
       " 2.6411011815071106,\n",
       " 2.6331490874290466,\n",
       " 2.6751763820648193,\n",
       " 2.62013977766037,\n",
       " 2.688196122646332,\n",
       " 2.7711305618286133,\n",
       " 2.6951361298561096,\n",
       " 2.672811508178711,\n",
       " 2.6291972994804382,\n",
       " 2.683205306529999]"
      ]
     },
     "execution_count": 39,
     "metadata": {},
     "output_type": "execute_result"
    }
   ],
   "source": [
    "average_mae_history = [np.mean([x[i] for x in all_mae_histories]) for i in range(num_epochs)]\n",
    "average_mae_history"
   ]
  },
  {
   "cell_type": "code",
   "execution_count": 40,
   "metadata": {},
   "outputs": [
    {
     "data": {
      "text/plain": [
       "Text(0, 0.5, 'Validation MAE')"
      ]
     },
     "execution_count": 40,
     "metadata": {},
     "output_type": "execute_result"
    },
    {
     "data": {
      "image/png": "[encoded data removed]",
      "text/plain": [
       "<Figure size 432x288 with 1 Axes>"
      ]
     },
     "metadata": {
      "needs_background": "light"
     },
     "output_type": "display_data"
    }
   ],
   "source": [
    "plt.plot(range(1, len(average_mae_history) + 1), average_mae_history)\n",
    "plt.xlabel('Epochs')\n",
    "plt.ylabel('Validation MAE')"
   ]
  },
  {
   "cell_type": "markdown",
   "metadata": {},
   "source": [
    "Most of the vertical distance ends up being for just the first few epochs when we get a lot of improvement, and then even after that there's a lot of variance. We'll get a plot that's easier to use by omitting the first 10 epochs and by smoothing the output using an exponental moving average. "
   ]
  },
  {
   "cell_type": "code",
   "execution_count": 41,
   "metadata": {},
   "outputs": [
    {
     "data": {
      "text/plain": [
       "Text(0, 0.5, 'Validation MAE')"
      ]
     },
     "execution_count": 41,
     "metadata": {},
     "output_type": "execute_result"
    },
    {
     "data": {
      "image/png": "[encoded data removed]",
      "text/plain": [
       "<Figure size 432x288 with 1 Axes>"
      ]
     },
     "metadata": {
      "needs_background": "light"
     },
     "output_type": "display_data"
    }
   ],
   "source": [
    "def smooth_curve(points, factor=0.9):\n",
    "    smoothed_points = []\n",
    "    for point in points:\n",
    "        if smoothed_points:\n",
    "            previous = smoothed_points[-1]\n",
    "            smoothed_points.append(previous * factor + point * (1 - factor))\n",
    "        else:\n",
    "            smoothed_points.append(point)\n",
    "            \n",
    "    return smoothed_points\n",
    "\n",
    "smooth_mae_history = smooth_curve(average_mae_history[10:]) # here's were we omit the first 10\n",
    "\n",
    "plt.plot(range(1, len(smooth_mae_history) + 1), smooth_mae_history)\n",
    "plt.xlabel('Epochs')\n",
    "plt.ylabel('Validation MAE')"
   ]
  },
  {
   "cell_type": "markdown",
   "metadata": {},
   "source": [
    "So, we start overfitting at about 50-60 epochs. Let's train a final model there, using all of the data."
   ]
  },
  {
   "cell_type": "code",
   "execution_count": 45,
   "metadata": {},
   "outputs": [
    {
     "name": "stdout",
     "output_type": "stream",
     "text": [
      "Epoch 1/60\n",
      "404/404 [==============================] - 0s 294us/step - loss: 497.2815 - mae: 20.3047\n",
      "Epoch 2/60\n",
      "404/404 [==============================] - 0s 144us/step - loss: 326.8771 - mae: 15.8028\n",
      "Epoch 3/60\n",
      "404/404 [==============================] - 0s 161us/step - loss: 159.4850 - mae: 10.3382\n",
      "Epoch 4/60\n",
      "404/404 [==============================] - 0s 138us/step - loss: 71.1586 - mae: 6.3697\n",
      "Epoch 5/60\n",
      "404/404 [==============================] - 0s 144us/step - loss: 41.2801 - mae: 4.5942\n",
      "Epoch 6/60\n",
      "404/404 [==============================] - 0s 147us/step - loss: 27.9132 - mae: 3.6617\n",
      "Epoch 7/60\n",
      "404/404 [==============================] - 0s 146us/step - loss: 22.2807 - mae: 3.2476\n",
      "Epoch 8/60\n",
      "404/404 [==============================] - 0s 151us/step - loss: 19.1742 - mae: 2.9605\n",
      "Epoch 9/60\n",
      "404/404 [==============================] - 0s 156us/step - loss: 16.9281 - mae: 2.7825\n",
      "Epoch 10/60\n",
      "404/404 [==============================] - 0s 144us/step - loss: 15.6584 - mae: 2.6715\n",
      "Epoch 11/60\n",
      "404/404 [==============================] - 0s 147us/step - loss: 14.3975 - mae: 2.5658\n",
      "Epoch 12/60\n",
      "404/404 [==============================] - 0s 138us/step - loss: 13.5461 - mae: 2.5582\n",
      "Epoch 13/60\n",
      "404/404 [==============================] - 0s 139us/step - loss: 13.1033 - mae: 2.5186\n",
      "Epoch 14/60\n",
      "404/404 [==============================] - 0s 145us/step - loss: 12.2996 - mae: 2.4509\n",
      "Epoch 15/60\n",
      "404/404 [==============================] - 0s 142us/step - loss: 11.7453 - mae: 2.4183\n",
      "Epoch 16/60\n",
      "404/404 [==============================] - 0s 141us/step - loss: 11.3517 - mae: 2.3958\n",
      "Epoch 17/60\n",
      "404/404 [==============================] - 0s 149us/step - loss: 11.0922 - mae: 2.3321\n",
      "Epoch 18/60\n",
      "404/404 [==============================] - 0s 149us/step - loss: 10.7847 - mae: 2.3001\n",
      "Epoch 19/60\n",
      "404/404 [==============================] - 0s 156us/step - loss: 10.5689 - mae: 2.2981\n",
      "Epoch 20/60\n",
      "404/404 [==============================] - 0s 151us/step - loss: 10.3442 - mae: 2.2762\n",
      "Epoch 21/60\n",
      "404/404 [==============================] - 0s 141us/step - loss: 10.0351 - mae: 2.2167\n",
      "Epoch 22/60\n",
      "404/404 [==============================] - 0s 146us/step - loss: 9.8542 - mae: 2.2499\n",
      "Epoch 23/60\n",
      "404/404 [==============================] - 0s 146us/step - loss: 9.6687 - mae: 2.1911\n",
      "Epoch 24/60\n",
      "404/404 [==============================] - 0s 144us/step - loss: 9.5205 - mae: 2.1965\n",
      "Epoch 25/60\n",
      "404/404 [==============================] - 0s 144us/step - loss: 9.2292 - mae: 2.1500\n",
      "Epoch 26/60\n",
      "404/404 [==============================] - 0s 153us/step - loss: 8.8996 - mae: 2.1618\n",
      "Epoch 27/60\n",
      "404/404 [==============================] - 0s 151us/step - loss: 8.9550 - mae: 2.1206\n",
      "Epoch 28/60\n",
      "404/404 [==============================] - 0s 141us/step - loss: 9.0244 - mae: 2.1417\n",
      "Epoch 29/60\n",
      "404/404 [==============================] - 0s 151us/step - loss: 8.8556 - mae: 2.1060\n",
      "Epoch 30/60\n",
      "404/404 [==============================] - 0s 144us/step - loss: 8.7873 - mae: 2.0837\n",
      "Epoch 31/60\n",
      "404/404 [==============================] - 0s 147us/step - loss: 8.6044 - mae: 2.1031\n",
      "Epoch 32/60\n",
      "404/404 [==============================] - 0s 144us/step - loss: 8.6524 - mae: 2.0945\n",
      "Epoch 33/60\n",
      "404/404 [==============================] - 0s 139us/step - loss: 8.2745 - mae: 2.0078\n",
      "Epoch 34/60\n",
      "404/404 [==============================] - 0s 139us/step - loss: 8.2988 - mae: 2.0398\n",
      "Epoch 35/60\n",
      "404/404 [==============================] - 0s 146us/step - loss: 8.1984 - mae: 2.0484\n",
      "Epoch 36/60\n",
      "404/404 [==============================] - 0s 140us/step - loss: 8.0966 - mae: 2.0245\n",
      "Epoch 37/60\n",
      "404/404 [==============================] - 0s 148us/step - loss: 8.0227 - mae: 1.9657\n",
      "Epoch 38/60\n",
      "404/404 [==============================] - 0s 141us/step - loss: 8.0151 - mae: 1.9967\n",
      "Epoch 39/60\n",
      "404/404 [==============================] - 0s 144us/step - loss: 7.7246 - mae: 1.9629\n",
      "Epoch 40/60\n",
      "404/404 [==============================] - 0s 131us/step - loss: 7.8485 - mae: 1.9788\n",
      "Epoch 41/60\n",
      "404/404 [==============================] - 0s 146us/step - loss: 7.7308 - mae: 1.9602\n",
      "Epoch 42/60\n",
      "404/404 [==============================] - 0s 139us/step - loss: 7.6924 - mae: 1.9406\n",
      "Epoch 43/60\n",
      "404/404 [==============================] - 0s 149us/step - loss: 7.3725 - mae: 1.9470\n",
      "Epoch 44/60\n",
      "404/404 [==============================] - 0s 154us/step - loss: 7.4700 - mae: 1.9059\n",
      "Epoch 45/60\n",
      "404/404 [==============================] - 0s 144us/step - loss: 7.3293 - mae: 1.9235\n",
      "Epoch 46/60\n",
      "404/404 [==============================] - 0s 153us/step - loss: 7.3514 - mae: 1.8975\n",
      "Epoch 47/60\n",
      "404/404 [==============================] - 0s 144us/step - loss: 7.2860 - mae: 1.9057\n",
      "Epoch 48/60\n",
      "404/404 [==============================] - 0s 149us/step - loss: 7.0517 - mae: 1.8636\n",
      "Epoch 49/60\n",
      "404/404 [==============================] - 0s 141us/step - loss: 7.1475 - mae: 1.9087\n",
      "Epoch 50/60\n",
      "404/404 [==============================] - 0s 149us/step - loss: 7.0098 - mae: 1.8712\n",
      "Epoch 51/60\n",
      "404/404 [==============================] - 0s 154us/step - loss: 6.9481 - mae: 1.8436\n",
      "Epoch 52/60\n",
      "404/404 [==============================] - 0s 154us/step - loss: 6.9911 - mae: 1.8512\n",
      "Epoch 53/60\n",
      "404/404 [==============================] - 0s 158us/step - loss: 6.9320 - mae: 1.8502\n",
      "Epoch 54/60\n",
      "404/404 [==============================] - 0s 151us/step - loss: 6.7583 - mae: 1.8402\n",
      "Epoch 55/60\n",
      "404/404 [==============================] - 0s 146us/step - loss: 6.7753 - mae: 1.8154\n",
      "Epoch 56/60\n",
      "404/404 [==============================] - 0s 131us/step - loss: 6.8302 - mae: 1.8414\n",
      "Epoch 57/60\n",
      "404/404 [==============================] - 0s 129us/step - loss: 6.4214 - mae: 1.8061\n",
      "Epoch 58/60\n",
      "404/404 [==============================] - 0s 124us/step - loss: 6.7713 - mae: 1.8314\n",
      "Epoch 59/60\n",
      "404/404 [==============================] - 0s 127us/step - loss: 6.5675 - mae: 1.8449\n",
      "Epoch 60/60\n",
      "404/404 [==============================] - 0s 131us/step - loss: 6.5415 - mae: 1.8061\n",
      "102/102 [==============================] - 0s 186us/step\n"
     ]
    },
    {
     "data": {
      "text/plain": [
       "2.6405296325683594"
      ]
     },
     "execution_count": 45,
     "metadata": {},
     "output_type": "execute_result"
    }
   ],
   "source": [
    "model = build_model()\n",
    "model.fit(train_data, train_targets, epochs=60, batch_size=16)\n",
    "test_mse_score, test_mae_score = model.evaluate(test_data, test_targets)\n",
    "\n",
    "test_mae_score"
   ]
  },
  {
   "cell_type": "code",
   "execution_count": null,
   "metadata": {},
   "outputs": [],
   "source": []
  }
 ],
 "metadata": {
  "kernelspec": {
   "display_name": "Python 3",
   "language": "python",
   "name": "python3"
  },
  "language_info": {
   "codemirror_mode": {
    "name": "ipython",
    "version": 3
   },
   "file_extension": ".py",
   "mimetype": "text/x-python",
   "name": "python",
   "nbconvert_exporter": "python",
   "pygments_lexer": "ipython3",
   "version": "3.7.6"
  }
 },
 "nbformat": 4,
 "nbformat_minor": 4
}
